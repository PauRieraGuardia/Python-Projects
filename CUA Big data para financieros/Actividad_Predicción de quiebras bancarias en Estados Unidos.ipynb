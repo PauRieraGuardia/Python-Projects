{
 "cells": [
  {
   "cell_type": "markdown",
   "id": "601b1c57-9a82-4f01-a6bd-5b870747a4dc",
   "metadata": {},
   "source": [
    "### Actividad: Predicción de quiebras bancarias en Estados Unidos\n",
    "\n",
    "##### Objetivo:\n",
    "\n",
    "Aplicación de un modelo de regresión logística y un modelo Random Forest para predecir si un banco está en riesgo de declararse en bancarrota. "
   ]
  },
  {
   "cell_type": "code",
   "execution_count": 206,
   "id": "b043fba5-e8e8-430b-94af-4257a6769fc5",
   "metadata": {
    "tags": []
   },
   "outputs": [],
   "source": [
    "# Importación de Paquetes\n",
    "import pandas as pd\n",
    "import numpy as np\n",
    "import matplotlib.pyplot as plt\n",
    "%matplotlib inline\n",
    "import seaborn as sns\n",
    "from sklearn.model_selection import train_test_split\n",
    "from sklearn.linear_model import LogisticRegression\n",
    "from sklearn.metrics import classification_report\n",
    "from sklearn.metrics import confusion_matrix\n",
    "from sklearn.metrics import roc_curve,auc"
   ]
  },
  {
   "cell_type": "markdown",
   "id": "b5ca1560-7807-4296-a45b-2ab16df33d2b",
   "metadata": {},
   "source": [
    "#### Carga de datos"
   ]
  },
  {
   "cell_type": "code",
   "execution_count": 208,
   "id": "3da2dc6e-39a7-4159-8eb0-c6f815406563",
   "metadata": {
    "tags": []
   },
   "outputs": [
    {
     "data": {
      "text/html": [
       "<div>\n",
       "<style scoped>\n",
       "    .dataframe tbody tr th:only-of-type {\n",
       "        vertical-align: middle;\n",
       "    }\n",
       "\n",
       "    .dataframe tbody tr th {\n",
       "        vertical-align: top;\n",
       "    }\n",
       "\n",
       "    .dataframe thead th {\n",
       "        text-align: right;\n",
       "    }\n",
       "</style>\n",
       "<table border=\"1\" class=\"dataframe\">\n",
       "  <thead>\n",
       "    <tr style=\"text-align: right;\">\n",
       "      <th></th>\n",
       "      <th>company_name</th>\n",
       "      <th>status_label</th>\n",
       "      <th>year</th>\n",
       "      <th>X1</th>\n",
       "      <th>X2</th>\n",
       "      <th>X3</th>\n",
       "      <th>X4</th>\n",
       "      <th>X5</th>\n",
       "      <th>X6</th>\n",
       "      <th>X7</th>\n",
       "      <th>...</th>\n",
       "      <th>X9</th>\n",
       "      <th>X10</th>\n",
       "      <th>X11</th>\n",
       "      <th>X12</th>\n",
       "      <th>X13</th>\n",
       "      <th>X14</th>\n",
       "      <th>X15</th>\n",
       "      <th>X16</th>\n",
       "      <th>X17</th>\n",
       "      <th>X18</th>\n",
       "    </tr>\n",
       "  </thead>\n",
       "  <tbody>\n",
       "    <tr>\n",
       "      <th>0</th>\n",
       "      <td>C_1</td>\n",
       "      <td>alive</td>\n",
       "      <td>1999</td>\n",
       "      <td>511.267</td>\n",
       "      <td>833.107</td>\n",
       "      <td>18.373</td>\n",
       "      <td>89.031</td>\n",
       "      <td>336.018</td>\n",
       "      <td>35.163</td>\n",
       "      <td>128.348</td>\n",
       "      <td>...</td>\n",
       "      <td>1024.333</td>\n",
       "      <td>740.998</td>\n",
       "      <td>180.447</td>\n",
       "      <td>70.658</td>\n",
       "      <td>191.226</td>\n",
       "      <td>163.816</td>\n",
       "      <td>201.026</td>\n",
       "      <td>1024.333</td>\n",
       "      <td>401.483</td>\n",
       "      <td>935.302</td>\n",
       "    </tr>\n",
       "    <tr>\n",
       "      <th>1</th>\n",
       "      <td>C_1</td>\n",
       "      <td>alive</td>\n",
       "      <td>2000</td>\n",
       "      <td>485.856</td>\n",
       "      <td>713.811</td>\n",
       "      <td>18.577</td>\n",
       "      <td>64.367</td>\n",
       "      <td>320.590</td>\n",
       "      <td>18.531</td>\n",
       "      <td>115.187</td>\n",
       "      <td>...</td>\n",
       "      <td>874.255</td>\n",
       "      <td>701.854</td>\n",
       "      <td>179.987</td>\n",
       "      <td>45.790</td>\n",
       "      <td>160.444</td>\n",
       "      <td>125.392</td>\n",
       "      <td>204.065</td>\n",
       "      <td>874.255</td>\n",
       "      <td>361.642</td>\n",
       "      <td>809.888</td>\n",
       "    </tr>\n",
       "    <tr>\n",
       "      <th>2</th>\n",
       "      <td>C_1</td>\n",
       "      <td>alive</td>\n",
       "      <td>2001</td>\n",
       "      <td>436.656</td>\n",
       "      <td>526.477</td>\n",
       "      <td>22.496</td>\n",
       "      <td>27.207</td>\n",
       "      <td>286.588</td>\n",
       "      <td>-58.939</td>\n",
       "      <td>77.528</td>\n",
       "      <td>...</td>\n",
       "      <td>638.721</td>\n",
       "      <td>710.199</td>\n",
       "      <td>217.699</td>\n",
       "      <td>4.711</td>\n",
       "      <td>112.244</td>\n",
       "      <td>150.464</td>\n",
       "      <td>139.603</td>\n",
       "      <td>638.721</td>\n",
       "      <td>399.964</td>\n",
       "      <td>611.514</td>\n",
       "    </tr>\n",
       "    <tr>\n",
       "      <th>3</th>\n",
       "      <td>C_1</td>\n",
       "      <td>alive</td>\n",
       "      <td>2002</td>\n",
       "      <td>396.412</td>\n",
       "      <td>496.747</td>\n",
       "      <td>27.172</td>\n",
       "      <td>30.745</td>\n",
       "      <td>259.954</td>\n",
       "      <td>-12.410</td>\n",
       "      <td>66.322</td>\n",
       "      <td>...</td>\n",
       "      <td>606.337</td>\n",
       "      <td>686.621</td>\n",
       "      <td>164.658</td>\n",
       "      <td>3.573</td>\n",
       "      <td>109.590</td>\n",
       "      <td>203.575</td>\n",
       "      <td>124.106</td>\n",
       "      <td>606.337</td>\n",
       "      <td>391.633</td>\n",
       "      <td>575.592</td>\n",
       "    </tr>\n",
       "    <tr>\n",
       "      <th>4</th>\n",
       "      <td>C_1</td>\n",
       "      <td>alive</td>\n",
       "      <td>2003</td>\n",
       "      <td>432.204</td>\n",
       "      <td>523.302</td>\n",
       "      <td>26.680</td>\n",
       "      <td>47.491</td>\n",
       "      <td>247.245</td>\n",
       "      <td>3.504</td>\n",
       "      <td>104.661</td>\n",
       "      <td>...</td>\n",
       "      <td>651.958</td>\n",
       "      <td>709.292</td>\n",
       "      <td>248.666</td>\n",
       "      <td>20.811</td>\n",
       "      <td>128.656</td>\n",
       "      <td>131.261</td>\n",
       "      <td>131.884</td>\n",
       "      <td>651.958</td>\n",
       "      <td>407.608</td>\n",
       "      <td>604.467</td>\n",
       "    </tr>\n",
       "  </tbody>\n",
       "</table>\n",
       "<p>5 rows × 21 columns</p>\n",
       "</div>"
      ],
      "text/plain": [
       "  company_name status_label  year       X1       X2      X3      X4       X5  \\\n",
       "0          C_1        alive  1999  511.267  833.107  18.373  89.031  336.018   \n",
       "1          C_1        alive  2000  485.856  713.811  18.577  64.367  320.590   \n",
       "2          C_1        alive  2001  436.656  526.477  22.496  27.207  286.588   \n",
       "3          C_1        alive  2002  396.412  496.747  27.172  30.745  259.954   \n",
       "4          C_1        alive  2003  432.204  523.302  26.680  47.491  247.245   \n",
       "\n",
       "       X6       X7  ...        X9      X10      X11     X12      X13      X14  \\\n",
       "0  35.163  128.348  ...  1024.333  740.998  180.447  70.658  191.226  163.816   \n",
       "1  18.531  115.187  ...   874.255  701.854  179.987  45.790  160.444  125.392   \n",
       "2 -58.939   77.528  ...   638.721  710.199  217.699   4.711  112.244  150.464   \n",
       "3 -12.410   66.322  ...   606.337  686.621  164.658   3.573  109.590  203.575   \n",
       "4   3.504  104.661  ...   651.958  709.292  248.666  20.811  128.656  131.261   \n",
       "\n",
       "       X15       X16      X17      X18  \n",
       "0  201.026  1024.333  401.483  935.302  \n",
       "1  204.065   874.255  361.642  809.888  \n",
       "2  139.603   638.721  399.964  611.514  \n",
       "3  124.106   606.337  391.633  575.592  \n",
       "4  131.884   651.958  407.608  604.467  \n",
       "\n",
       "[5 rows x 21 columns]"
      ]
     },
     "execution_count": 208,
     "metadata": {},
     "output_type": "execute_result"
    }
   ],
   "source": [
    "default = pd.read_csv(\"C:/Users/pauri/OneDrive/Escritorio/CUA Caso Práctico/us_failures.csv\")\n",
    "default.head()"
   ]
  },
  {
   "cell_type": "code",
   "execution_count": 209,
   "id": "3e053d90-37d6-420c-8b67-209b9c6fb52b",
   "metadata": {
    "tags": []
   },
   "outputs": [
    {
     "data": {
      "text/html": [
       "<div>\n",
       "<style scoped>\n",
       "    .dataframe tbody tr th:only-of-type {\n",
       "        vertical-align: middle;\n",
       "    }\n",
       "\n",
       "    .dataframe tbody tr th {\n",
       "        vertical-align: top;\n",
       "    }\n",
       "\n",
       "    .dataframe thead th {\n",
       "        text-align: right;\n",
       "    }\n",
       "</style>\n",
       "<table border=\"1\" class=\"dataframe\">\n",
       "  <thead>\n",
       "    <tr style=\"text-align: right;\">\n",
       "      <th></th>\n",
       "      <th>status_label</th>\n",
       "      <th>year</th>\n",
       "      <th>X1</th>\n",
       "      <th>X2</th>\n",
       "      <th>X3</th>\n",
       "      <th>X4</th>\n",
       "      <th>X5</th>\n",
       "      <th>X6</th>\n",
       "      <th>X7</th>\n",
       "      <th>X8</th>\n",
       "      <th>X9</th>\n",
       "      <th>X10</th>\n",
       "      <th>X11</th>\n",
       "      <th>X12</th>\n",
       "      <th>X13</th>\n",
       "      <th>X14</th>\n",
       "      <th>X15</th>\n",
       "      <th>X16</th>\n",
       "      <th>X17</th>\n",
       "      <th>X18</th>\n",
       "    </tr>\n",
       "    <tr>\n",
       "      <th>company_name</th>\n",
       "      <th></th>\n",
       "      <th></th>\n",
       "      <th></th>\n",
       "      <th></th>\n",
       "      <th></th>\n",
       "      <th></th>\n",
       "      <th></th>\n",
       "      <th></th>\n",
       "      <th></th>\n",
       "      <th></th>\n",
       "      <th></th>\n",
       "      <th></th>\n",
       "      <th></th>\n",
       "      <th></th>\n",
       "      <th></th>\n",
       "      <th></th>\n",
       "      <th></th>\n",
       "      <th></th>\n",
       "      <th></th>\n",
       "      <th></th>\n",
       "    </tr>\n",
       "  </thead>\n",
       "  <tbody>\n",
       "    <tr>\n",
       "      <th>C_1</th>\n",
       "      <td>alive</td>\n",
       "      <td>1999</td>\n",
       "      <td>511.267</td>\n",
       "      <td>833.107</td>\n",
       "      <td>18.373</td>\n",
       "      <td>89.031</td>\n",
       "      <td>336.018</td>\n",
       "      <td>35.163</td>\n",
       "      <td>128.348</td>\n",
       "      <td>372.7519</td>\n",
       "      <td>1024.333</td>\n",
       "      <td>740.998</td>\n",
       "      <td>180.447</td>\n",
       "      <td>70.658</td>\n",
       "      <td>191.226</td>\n",
       "      <td>163.816</td>\n",
       "      <td>201.026</td>\n",
       "      <td>1024.333</td>\n",
       "      <td>401.483</td>\n",
       "      <td>935.302</td>\n",
       "    </tr>\n",
       "    <tr>\n",
       "      <th>C_1</th>\n",
       "      <td>alive</td>\n",
       "      <td>2000</td>\n",
       "      <td>485.856</td>\n",
       "      <td>713.811</td>\n",
       "      <td>18.577</td>\n",
       "      <td>64.367</td>\n",
       "      <td>320.590</td>\n",
       "      <td>18.531</td>\n",
       "      <td>115.187</td>\n",
       "      <td>377.1180</td>\n",
       "      <td>874.255</td>\n",
       "      <td>701.854</td>\n",
       "      <td>179.987</td>\n",
       "      <td>45.790</td>\n",
       "      <td>160.444</td>\n",
       "      <td>125.392</td>\n",
       "      <td>204.065</td>\n",
       "      <td>874.255</td>\n",
       "      <td>361.642</td>\n",
       "      <td>809.888</td>\n",
       "    </tr>\n",
       "    <tr>\n",
       "      <th>C_1</th>\n",
       "      <td>alive</td>\n",
       "      <td>2001</td>\n",
       "      <td>436.656</td>\n",
       "      <td>526.477</td>\n",
       "      <td>22.496</td>\n",
       "      <td>27.207</td>\n",
       "      <td>286.588</td>\n",
       "      <td>-58.939</td>\n",
       "      <td>77.528</td>\n",
       "      <td>364.5928</td>\n",
       "      <td>638.721</td>\n",
       "      <td>710.199</td>\n",
       "      <td>217.699</td>\n",
       "      <td>4.711</td>\n",
       "      <td>112.244</td>\n",
       "      <td>150.464</td>\n",
       "      <td>139.603</td>\n",
       "      <td>638.721</td>\n",
       "      <td>399.964</td>\n",
       "      <td>611.514</td>\n",
       "    </tr>\n",
       "    <tr>\n",
       "      <th>C_1</th>\n",
       "      <td>alive</td>\n",
       "      <td>2002</td>\n",
       "      <td>396.412</td>\n",
       "      <td>496.747</td>\n",
       "      <td>27.172</td>\n",
       "      <td>30.745</td>\n",
       "      <td>259.954</td>\n",
       "      <td>-12.410</td>\n",
       "      <td>66.322</td>\n",
       "      <td>143.3295</td>\n",
       "      <td>606.337</td>\n",
       "      <td>686.621</td>\n",
       "      <td>164.658</td>\n",
       "      <td>3.573</td>\n",
       "      <td>109.590</td>\n",
       "      <td>203.575</td>\n",
       "      <td>124.106</td>\n",
       "      <td>606.337</td>\n",
       "      <td>391.633</td>\n",
       "      <td>575.592</td>\n",
       "    </tr>\n",
       "    <tr>\n",
       "      <th>C_1</th>\n",
       "      <td>alive</td>\n",
       "      <td>2003</td>\n",
       "      <td>432.204</td>\n",
       "      <td>523.302</td>\n",
       "      <td>26.680</td>\n",
       "      <td>47.491</td>\n",
       "      <td>247.245</td>\n",
       "      <td>3.504</td>\n",
       "      <td>104.661</td>\n",
       "      <td>308.9071</td>\n",
       "      <td>651.958</td>\n",
       "      <td>709.292</td>\n",
       "      <td>248.666</td>\n",
       "      <td>20.811</td>\n",
       "      <td>128.656</td>\n",
       "      <td>131.261</td>\n",
       "      <td>131.884</td>\n",
       "      <td>651.958</td>\n",
       "      <td>407.608</td>\n",
       "      <td>604.467</td>\n",
       "    </tr>\n",
       "  </tbody>\n",
       "</table>\n",
       "</div>"
      ],
      "text/plain": [
       "             status_label  year       X1       X2      X3      X4       X5  \\\n",
       "company_name                                                                 \n",
       "C_1                 alive  1999  511.267  833.107  18.373  89.031  336.018   \n",
       "C_1                 alive  2000  485.856  713.811  18.577  64.367  320.590   \n",
       "C_1                 alive  2001  436.656  526.477  22.496  27.207  286.588   \n",
       "C_1                 alive  2002  396.412  496.747  27.172  30.745  259.954   \n",
       "C_1                 alive  2003  432.204  523.302  26.680  47.491  247.245   \n",
       "\n",
       "                  X6       X7        X8        X9      X10      X11     X12  \\\n",
       "company_name                                                                  \n",
       "C_1           35.163  128.348  372.7519  1024.333  740.998  180.447  70.658   \n",
       "C_1           18.531  115.187  377.1180   874.255  701.854  179.987  45.790   \n",
       "C_1          -58.939   77.528  364.5928   638.721  710.199  217.699   4.711   \n",
       "C_1          -12.410   66.322  143.3295   606.337  686.621  164.658   3.573   \n",
       "C_1            3.504  104.661  308.9071   651.958  709.292  248.666  20.811   \n",
       "\n",
       "                  X13      X14      X15       X16      X17      X18  \n",
       "company_name                                                         \n",
       "C_1           191.226  163.816  201.026  1024.333  401.483  935.302  \n",
       "C_1           160.444  125.392  204.065   874.255  361.642  809.888  \n",
       "C_1           112.244  150.464  139.603   638.721  399.964  611.514  \n",
       "C_1           109.590  203.575  124.106   606.337  391.633  575.592  \n",
       "C_1           128.656  131.261  131.884   651.958  407.608  604.467  "
      ]
     },
     "execution_count": 209,
     "metadata": {},
     "output_type": "execute_result"
    }
   ],
   "source": [
    "# company_name como indice\n",
    "\n",
    "default.set_index(\"company_name\",inplace=True)\n",
    "default.head()"
   ]
  },
  {
   "cell_type": "markdown",
   "id": "5a88a0a4-3b59-4e34-81cf-31395f36e92b",
   "metadata": {},
   "source": [
    "#### Descripción y visualización de los datos"
   ]
  },
  {
   "cell_type": "code",
   "execution_count": 211,
   "id": "5260b5e8-5c73-4767-be55-3424f8edbab5",
   "metadata": {
    "tags": []
   },
   "outputs": [
    {
     "data": {
      "text/plain": [
       "Index(['status_label', 'year', 'X1', 'X2', 'X3', 'X4', 'X5', 'X6', 'X7', 'X8',\n",
       "       'X9', 'X10', 'X11', 'X12', 'X13', 'X14', 'X15', 'X16', 'X17', 'X18'],\n",
       "      dtype='object')"
      ]
     },
     "execution_count": 211,
     "metadata": {},
     "output_type": "execute_result"
    }
   ],
   "source": [
    "# Nombre de las variables\n",
    "\n",
    "default.columns"
   ]
  },
  {
   "cell_type": "code",
   "execution_count": 212,
   "id": "1ed7a927-76fe-4441-a6b9-829077d365c9",
   "metadata": {
    "tags": []
   },
   "outputs": [
    {
     "data": {
      "text/html": [
       "<div>\n",
       "<style scoped>\n",
       "    .dataframe tbody tr th:only-of-type {\n",
       "        vertical-align: middle;\n",
       "    }\n",
       "\n",
       "    .dataframe tbody tr th {\n",
       "        vertical-align: top;\n",
       "    }\n",
       "\n",
       "    .dataframe thead th {\n",
       "        text-align: right;\n",
       "    }\n",
       "</style>\n",
       "<table border=\"1\" class=\"dataframe\">\n",
       "  <thead>\n",
       "    <tr style=\"text-align: right;\">\n",
       "      <th></th>\n",
       "      <th>year</th>\n",
       "      <th>X1</th>\n",
       "      <th>X2</th>\n",
       "      <th>X3</th>\n",
       "      <th>X4</th>\n",
       "      <th>X5</th>\n",
       "      <th>X6</th>\n",
       "      <th>X7</th>\n",
       "      <th>X8</th>\n",
       "      <th>X9</th>\n",
       "      <th>X10</th>\n",
       "      <th>X11</th>\n",
       "      <th>X12</th>\n",
       "      <th>X13</th>\n",
       "      <th>X14</th>\n",
       "      <th>X15</th>\n",
       "      <th>X16</th>\n",
       "      <th>X17</th>\n",
       "      <th>X18</th>\n",
       "    </tr>\n",
       "  </thead>\n",
       "  <tbody>\n",
       "    <tr>\n",
       "      <th>count</th>\n",
       "      <td>78682.000000</td>\n",
       "      <td>78682.000000</td>\n",
       "      <td>78682.000000</td>\n",
       "      <td>78682.000000</td>\n",
       "      <td>78682.000000</td>\n",
       "      <td>78682.000000</td>\n",
       "      <td>78682.000000</td>\n",
       "      <td>78682.000000</td>\n",
       "      <td>7.868200e+04</td>\n",
       "      <td>78682.000000</td>\n",
       "      <td>78682.000000</td>\n",
       "      <td>78682.000000</td>\n",
       "      <td>78682.000000</td>\n",
       "      <td>78682.000000</td>\n",
       "      <td>78682.000000</td>\n",
       "      <td>78682.000000</td>\n",
       "      <td>78682.000000</td>\n",
       "      <td>78682.000000</td>\n",
       "      <td>78682.000000</td>\n",
       "    </tr>\n",
       "    <tr>\n",
       "      <th>mean</th>\n",
       "      <td>2007.506317</td>\n",
       "      <td>880.362485</td>\n",
       "      <td>1594.529029</td>\n",
       "      <td>121.234256</td>\n",
       "      <td>376.759424</td>\n",
       "      <td>201.605717</td>\n",
       "      <td>129.382453</td>\n",
       "      <td>286.832743</td>\n",
       "      <td>3.414355e+03</td>\n",
       "      <td>2364.019706</td>\n",
       "      <td>2867.110620</td>\n",
       "      <td>722.483710</td>\n",
       "      <td>255.525035</td>\n",
       "      <td>769.490783</td>\n",
       "      <td>610.072255</td>\n",
       "      <td>532.467069</td>\n",
       "      <td>2364.019706</td>\n",
       "      <td>1773.563963</td>\n",
       "      <td>1987.260307</td>\n",
       "    </tr>\n",
       "    <tr>\n",
       "      <th>std</th>\n",
       "      <td>5.742768</td>\n",
       "      <td>3928.564794</td>\n",
       "      <td>8930.484664</td>\n",
       "      <td>652.376804</td>\n",
       "      <td>2012.023142</td>\n",
       "      <td>1060.766096</td>\n",
       "      <td>1265.532022</td>\n",
       "      <td>1335.978571</td>\n",
       "      <td>1.841410e+04</td>\n",
       "      <td>11950.068842</td>\n",
       "      <td>12917.944421</td>\n",
       "      <td>3242.170946</td>\n",
       "      <td>1494.643534</td>\n",
       "      <td>3774.703114</td>\n",
       "      <td>2938.387443</td>\n",
       "      <td>6369.159440</td>\n",
       "      <td>11950.068842</td>\n",
       "      <td>8053.684902</td>\n",
       "      <td>10419.629038</td>\n",
       "    </tr>\n",
       "    <tr>\n",
       "      <th>min</th>\n",
       "      <td>1999.000000</td>\n",
       "      <td>-7.760000</td>\n",
       "      <td>-366.645000</td>\n",
       "      <td>0.000000</td>\n",
       "      <td>-21913.000000</td>\n",
       "      <td>0.000000</td>\n",
       "      <td>-98696.000000</td>\n",
       "      <td>-0.006000</td>\n",
       "      <td>1.000000e-04</td>\n",
       "      <td>-1964.999000</td>\n",
       "      <td>0.001000</td>\n",
       "      <td>-0.023000</td>\n",
       "      <td>-25913.000000</td>\n",
       "      <td>-21536.000000</td>\n",
       "      <td>0.001000</td>\n",
       "      <td>-102362.000000</td>\n",
       "      <td>-1964.999000</td>\n",
       "      <td>0.001000</td>\n",
       "      <td>-317.197000</td>\n",
       "    </tr>\n",
       "    <tr>\n",
       "      <th>25%</th>\n",
       "      <td>2002.000000</td>\n",
       "      <td>18.924000</td>\n",
       "      <td>17.038250</td>\n",
       "      <td>1.192000</td>\n",
       "      <td>-0.811000</td>\n",
       "      <td>0.000000</td>\n",
       "      <td>-7.415750</td>\n",
       "      <td>3.281250</td>\n",
       "      <td>3.498000e+01</td>\n",
       "      <td>27.548500</td>\n",
       "      <td>37.363500</td>\n",
       "      <td>0.000000</td>\n",
       "      <td>-2.787000</td>\n",
       "      <td>8.521250</td>\n",
       "      <td>8.889250</td>\n",
       "      <td>-68.282750</td>\n",
       "      <td>27.548500</td>\n",
       "      <td>13.486000</td>\n",
       "      <td>32.872500</td>\n",
       "    </tr>\n",
       "    <tr>\n",
       "      <th>50%</th>\n",
       "      <td>2007.000000</td>\n",
       "      <td>100.449500</td>\n",
       "      <td>103.661000</td>\n",
       "      <td>7.929500</td>\n",
       "      <td>15.034500</td>\n",
       "      <td>7.023000</td>\n",
       "      <td>1.616000</td>\n",
       "      <td>22.820000</td>\n",
       "      <td>2.275118e+02</td>\n",
       "      <td>186.598500</td>\n",
       "      <td>213.203500</td>\n",
       "      <td>7.593500</td>\n",
       "      <td>6.518000</td>\n",
       "      <td>63.581500</td>\n",
       "      <td>43.333000</td>\n",
       "      <td>-1.131000</td>\n",
       "      <td>186.598500</td>\n",
       "      <td>81.988000</td>\n",
       "      <td>168.912000</td>\n",
       "    </tr>\n",
       "    <tr>\n",
       "      <th>75%</th>\n",
       "      <td>2012.000000</td>\n",
       "      <td>431.526750</td>\n",
       "      <td>634.548000</td>\n",
       "      <td>47.971750</td>\n",
       "      <td>139.655250</td>\n",
       "      <td>74.747250</td>\n",
       "      <td>40.144250</td>\n",
       "      <td>131.580500</td>\n",
       "      <td>1.244890e+03</td>\n",
       "      <td>1046.402500</td>\n",
       "      <td>1171.364750</td>\n",
       "      <td>248.760750</td>\n",
       "      <td>87.599000</td>\n",
       "      <td>344.074250</td>\n",
       "      <td>222.817000</td>\n",
       "      <td>146.070000</td>\n",
       "      <td>1046.402500</td>\n",
       "      <td>629.975000</td>\n",
       "      <td>875.522250</td>\n",
       "    </tr>\n",
       "    <tr>\n",
       "      <th>max</th>\n",
       "      <td>2018.000000</td>\n",
       "      <td>169662.000000</td>\n",
       "      <td>374623.000000</td>\n",
       "      <td>28430.000000</td>\n",
       "      <td>81730.000000</td>\n",
       "      <td>62567.000000</td>\n",
       "      <td>104821.000000</td>\n",
       "      <td>65812.000000</td>\n",
       "      <td>1.073391e+06</td>\n",
       "      <td>511729.000000</td>\n",
       "      <td>531864.000000</td>\n",
       "      <td>166250.000000</td>\n",
       "      <td>71230.000000</td>\n",
       "      <td>137106.000000</td>\n",
       "      <td>116866.000000</td>\n",
       "      <td>402089.000000</td>\n",
       "      <td>511729.000000</td>\n",
       "      <td>337980.000000</td>\n",
       "      <td>481580.000000</td>\n",
       "    </tr>\n",
       "  </tbody>\n",
       "</table>\n",
       "</div>"
      ],
      "text/plain": [
       "               year             X1             X2            X3            X4  \\\n",
       "count  78682.000000   78682.000000   78682.000000  78682.000000  78682.000000   \n",
       "mean    2007.506317     880.362485    1594.529029    121.234256    376.759424   \n",
       "std        5.742768    3928.564794    8930.484664    652.376804   2012.023142   \n",
       "min     1999.000000      -7.760000    -366.645000      0.000000 -21913.000000   \n",
       "25%     2002.000000      18.924000      17.038250      1.192000     -0.811000   \n",
       "50%     2007.000000     100.449500     103.661000      7.929500     15.034500   \n",
       "75%     2012.000000     431.526750     634.548000     47.971750    139.655250   \n",
       "max     2018.000000  169662.000000  374623.000000  28430.000000  81730.000000   \n",
       "\n",
       "                 X5             X6            X7            X8             X9  \\\n",
       "count  78682.000000   78682.000000  78682.000000  7.868200e+04   78682.000000   \n",
       "mean     201.605717     129.382453    286.832743  3.414355e+03    2364.019706   \n",
       "std     1060.766096    1265.532022   1335.978571  1.841410e+04   11950.068842   \n",
       "min        0.000000  -98696.000000     -0.006000  1.000000e-04   -1964.999000   \n",
       "25%        0.000000      -7.415750      3.281250  3.498000e+01      27.548500   \n",
       "50%        7.023000       1.616000     22.820000  2.275118e+02     186.598500   \n",
       "75%       74.747250      40.144250    131.580500  1.244890e+03    1046.402500   \n",
       "max    62567.000000  104821.000000  65812.000000  1.073391e+06  511729.000000   \n",
       "\n",
       "                 X10            X11           X12            X13  \\\n",
       "count   78682.000000   78682.000000  78682.000000   78682.000000   \n",
       "mean     2867.110620     722.483710    255.525035     769.490783   \n",
       "std     12917.944421    3242.170946   1494.643534    3774.703114   \n",
       "min         0.001000      -0.023000 -25913.000000  -21536.000000   \n",
       "25%        37.363500       0.000000     -2.787000       8.521250   \n",
       "50%       213.203500       7.593500      6.518000      63.581500   \n",
       "75%      1171.364750     248.760750     87.599000     344.074250   \n",
       "max    531864.000000  166250.000000  71230.000000  137106.000000   \n",
       "\n",
       "                 X14            X15            X16            X17  \\\n",
       "count   78682.000000   78682.000000   78682.000000   78682.000000   \n",
       "mean      610.072255     532.467069    2364.019706    1773.563963   \n",
       "std      2938.387443    6369.159440   11950.068842    8053.684902   \n",
       "min         0.001000 -102362.000000   -1964.999000       0.001000   \n",
       "25%         8.889250     -68.282750      27.548500      13.486000   \n",
       "50%        43.333000      -1.131000     186.598500      81.988000   \n",
       "75%       222.817000     146.070000    1046.402500     629.975000   \n",
       "max    116866.000000  402089.000000  511729.000000  337980.000000   \n",
       "\n",
       "                 X18  \n",
       "count   78682.000000  \n",
       "mean     1987.260307  \n",
       "std     10419.629038  \n",
       "min      -317.197000  \n",
       "25%        32.872500  \n",
       "50%       168.912000  \n",
       "75%       875.522250  \n",
       "max    481580.000000  "
      ]
     },
     "execution_count": 212,
     "metadata": {},
     "output_type": "execute_result"
    }
   ],
   "source": [
    "# Descriptivos del DataFrame\n",
    "\n",
    "default.describe()"
   ]
  },
  {
   "cell_type": "code",
   "execution_count": 213,
   "id": "a83ad530-b238-4050-8d91-8dcdaed61c63",
   "metadata": {
    "tags": []
   },
   "outputs": [
    {
     "name": "stderr",
     "output_type": "stream",
     "text": [
      "C:\\Users\\pauri\\anaconda3\\Lib\\site-packages\\seaborn\\_oldcore.py:1119: FutureWarning: use_inf_as_na option is deprecated and will be removed in a future version. Convert inf values to NaN before operating instead.\n",
      "  with pd.option_context('mode.use_inf_as_na', True):\n"
     ]
    },
    {
     "data": {
      "image/png": "[encoded data removed]",
      "text/plain": [
       "<Figure size 500x500 with 1 Axes>"
      ]
     },
     "metadata": {},
     "output_type": "display_data"
    }
   ],
   "source": [
    "# Distribución de la variable status_label, la que queremos predecir\n",
    "\n",
    "sns.displot(default[\"status_label\"])\n",
    "plt.show()"
   ]
  },
  {
   "cell_type": "markdown",
   "id": "3b9e1b69-6a53-4947-8184-2b69c3693290",
   "metadata": {},
   "source": [
    "Como podemos osbervar, la mayoria de empresas del DataFrame tienen la condición de \"alive\""
   ]
  },
  {
   "cell_type": "code",
   "execution_count": 215,
   "id": "2f95ff7f-761d-4918-bc88-c286ae4d5734",
   "metadata": {
    "tags": []
   },
   "outputs": [
    {
     "data": {
      "text/html": [
       "<div>\n",
       "<style scoped>\n",
       "    .dataframe tbody tr th:only-of-type {\n",
       "        vertical-align: middle;\n",
       "    }\n",
       "\n",
       "    .dataframe tbody tr th {\n",
       "        vertical-align: top;\n",
       "    }\n",
       "\n",
       "    .dataframe thead th {\n",
       "        text-align: right;\n",
       "    }\n",
       "</style>\n",
       "<table border=\"1\" class=\"dataframe\">\n",
       "  <thead>\n",
       "    <tr style=\"text-align: right;\">\n",
       "      <th></th>\n",
       "      <th>year</th>\n",
       "      <th>X1</th>\n",
       "      <th>X2</th>\n",
       "      <th>X3</th>\n",
       "      <th>X4</th>\n",
       "      <th>X5</th>\n",
       "      <th>X6</th>\n",
       "      <th>X7</th>\n",
       "      <th>X8</th>\n",
       "      <th>X9</th>\n",
       "      <th>X10</th>\n",
       "      <th>X11</th>\n",
       "      <th>X12</th>\n",
       "      <th>X13</th>\n",
       "      <th>X14</th>\n",
       "      <th>X15</th>\n",
       "      <th>X16</th>\n",
       "      <th>X17</th>\n",
       "      <th>X18</th>\n",
       "    </tr>\n",
       "  </thead>\n",
       "  <tbody>\n",
       "    <tr>\n",
       "      <th>year</th>\n",
       "      <td>1.000000</td>\n",
       "      <td>0.096764</td>\n",
       "      <td>0.065320</td>\n",
       "      <td>0.078040</td>\n",
       "      <td>0.082694</td>\n",
       "      <td>0.073918</td>\n",
       "      <td>0.063232</td>\n",
       "      <td>0.082141</td>\n",
       "      <td>0.080689</td>\n",
       "      <td>0.075471</td>\n",
       "      <td>0.100649</td>\n",
       "      <td>0.121160</td>\n",
       "      <td>0.077256</td>\n",
       "      <td>0.084388</td>\n",
       "      <td>0.085043</td>\n",
       "      <td>0.052765</td>\n",
       "      <td>0.075471</td>\n",
       "      <td>0.104300</td>\n",
       "      <td>0.070588</td>\n",
       "    </tr>\n",
       "    <tr>\n",
       "      <th>X1</th>\n",
       "      <td>0.096764</td>\n",
       "      <td>1.000000</td>\n",
       "      <td>0.660564</td>\n",
       "      <td>0.659173</td>\n",
       "      <td>0.812872</td>\n",
       "      <td>0.638698</td>\n",
       "      <td>0.657366</td>\n",
       "      <td>0.851945</td>\n",
       "      <td>0.826568</td>\n",
       "      <td>0.758712</td>\n",
       "      <td>0.824172</td>\n",
       "      <td>0.641522</td>\n",
       "      <td>0.806540</td>\n",
       "      <td>0.839140</td>\n",
       "      <td>0.903493</td>\n",
       "      <td>0.549777</td>\n",
       "      <td>0.758712</td>\n",
       "      <td>0.794479</td>\n",
       "      <td>0.713187</td>\n",
       "    </tr>\n",
       "    <tr>\n",
       "      <th>X2</th>\n",
       "      <td>0.065320</td>\n",
       "      <td>0.660564</td>\n",
       "      <td>1.000000</td>\n",
       "      <td>0.601328</td>\n",
       "      <td>0.674880</td>\n",
       "      <td>0.780846</td>\n",
       "      <td>0.517079</td>\n",
       "      <td>0.662863</td>\n",
       "      <td>0.556610</td>\n",
       "      <td>0.975963</td>\n",
       "      <td>0.681138</td>\n",
       "      <td>0.479374</td>\n",
       "      <td>0.646028</td>\n",
       "      <td>0.723855</td>\n",
       "      <td>0.784213</td>\n",
       "      <td>0.593223</td>\n",
       "      <td>0.975963</td>\n",
       "      <td>0.657386</td>\n",
       "      <td>0.988994</td>\n",
       "    </tr>\n",
       "    <tr>\n",
       "      <th>X3</th>\n",
       "      <td>0.078040</td>\n",
       "      <td>0.659173</td>\n",
       "      <td>0.601328</td>\n",
       "      <td>1.000000</td>\n",
       "      <td>0.853222</td>\n",
       "      <td>0.426229</td>\n",
       "      <td>0.534297</td>\n",
       "      <td>0.696474</td>\n",
       "      <td>0.668160</td>\n",
       "      <td>0.700824</td>\n",
       "      <td>0.911330</td>\n",
       "      <td>0.781753</td>\n",
       "      <td>0.712093</td>\n",
       "      <td>0.796021</td>\n",
       "      <td>0.752106</td>\n",
       "      <td>0.588563</td>\n",
       "      <td>0.700824</td>\n",
       "      <td>0.877051</td>\n",
       "      <td>0.639004</td>\n",
       "    </tr>\n",
       "    <tr>\n",
       "      <th>X4</th>\n",
       "      <td>0.082694</td>\n",
       "      <td>0.812872</td>\n",
       "      <td>0.674880</td>\n",
       "      <td>0.853222</td>\n",
       "      <td>1.000000</td>\n",
       "      <td>0.512667</td>\n",
       "      <td>0.766148</td>\n",
       "      <td>0.779820</td>\n",
       "      <td>0.859896</td>\n",
       "      <td>0.796124</td>\n",
       "      <td>0.916728</td>\n",
       "      <td>0.730642</td>\n",
       "      <td>0.973745</td>\n",
       "      <td>0.923711</td>\n",
       "      <td>0.835342</td>\n",
       "      <td>0.674287</td>\n",
       "      <td>0.796124</td>\n",
       "      <td>0.865836</td>\n",
       "      <td>0.719960</td>\n",
       "    </tr>\n",
       "    <tr>\n",
       "      <th>X5</th>\n",
       "      <td>0.073918</td>\n",
       "      <td>0.638698</td>\n",
       "      <td>0.780846</td>\n",
       "      <td>0.426229</td>\n",
       "      <td>0.512667</td>\n",
       "      <td>1.000000</td>\n",
       "      <td>0.395436</td>\n",
       "      <td>0.503019</td>\n",
       "      <td>0.483074</td>\n",
       "      <td>0.791135</td>\n",
       "      <td>0.553202</td>\n",
       "      <td>0.415740</td>\n",
       "      <td>0.504091</td>\n",
       "      <td>0.657215</td>\n",
       "      <td>0.719630</td>\n",
       "      <td>0.436993</td>\n",
       "      <td>0.791135</td>\n",
       "      <td>0.557678</td>\n",
       "      <td>0.808342</td>\n",
       "    </tr>\n",
       "    <tr>\n",
       "      <th>X6</th>\n",
       "      <td>0.063232</td>\n",
       "      <td>0.657366</td>\n",
       "      <td>0.517079</td>\n",
       "      <td>0.534297</td>\n",
       "      <td>0.766148</td>\n",
       "      <td>0.395436</td>\n",
       "      <td>1.000000</td>\n",
       "      <td>0.588943</td>\n",
       "      <td>0.714706</td>\n",
       "      <td>0.606444</td>\n",
       "      <td>0.646947</td>\n",
       "      <td>0.434078</td>\n",
       "      <td>0.798147</td>\n",
       "      <td>0.696554</td>\n",
       "      <td>0.637441</td>\n",
       "      <td>0.628653</td>\n",
       "      <td>0.606444</td>\n",
       "      <td>0.587707</td>\n",
       "      <td>0.547576</td>\n",
       "    </tr>\n",
       "    <tr>\n",
       "      <th>X7</th>\n",
       "      <td>0.082141</td>\n",
       "      <td>0.851945</td>\n",
       "      <td>0.662863</td>\n",
       "      <td>0.696474</td>\n",
       "      <td>0.779820</td>\n",
       "      <td>0.503019</td>\n",
       "      <td>0.588943</td>\n",
       "      <td>1.000000</td>\n",
       "      <td>0.684549</td>\n",
       "      <td>0.726521</td>\n",
       "      <td>0.806388</td>\n",
       "      <td>0.645599</td>\n",
       "      <td>0.745765</td>\n",
       "      <td>0.731790</td>\n",
       "      <td>0.872734</td>\n",
       "      <td>0.570250</td>\n",
       "      <td>0.726521</td>\n",
       "      <td>0.807136</td>\n",
       "      <td>0.682650</td>\n",
       "    </tr>\n",
       "    <tr>\n",
       "      <th>X8</th>\n",
       "      <td>0.080689</td>\n",
       "      <td>0.826568</td>\n",
       "      <td>0.556610</td>\n",
       "      <td>0.668160</td>\n",
       "      <td>0.859896</td>\n",
       "      <td>0.483074</td>\n",
       "      <td>0.714706</td>\n",
       "      <td>0.684549</td>\n",
       "      <td>1.000000</td>\n",
       "      <td>0.685420</td>\n",
       "      <td>0.789200</td>\n",
       "      <td>0.576519</td>\n",
       "      <td>0.865917</td>\n",
       "      <td>0.853052</td>\n",
       "      <td>0.762850</td>\n",
       "      <td>0.629782</td>\n",
       "      <td>0.685420</td>\n",
       "      <td>0.712536</td>\n",
       "      <td>0.620050</td>\n",
       "    </tr>\n",
       "    <tr>\n",
       "      <th>X9</th>\n",
       "      <td>0.075471</td>\n",
       "      <td>0.758712</td>\n",
       "      <td>0.975963</td>\n",
       "      <td>0.700824</td>\n",
       "      <td>0.796124</td>\n",
       "      <td>0.791135</td>\n",
       "      <td>0.606444</td>\n",
       "      <td>0.726521</td>\n",
       "      <td>0.685420</td>\n",
       "      <td>1.000000</td>\n",
       "      <td>0.784902</td>\n",
       "      <td>0.581507</td>\n",
       "      <td>0.765814</td>\n",
       "      <td>0.856822</td>\n",
       "      <td>0.858866</td>\n",
       "      <td>0.635692</td>\n",
       "      <td>1.000000</td>\n",
       "      <td>0.754276</td>\n",
       "      <td>0.993149</td>\n",
       "    </tr>\n",
       "    <tr>\n",
       "      <th>X10</th>\n",
       "      <td>0.100649</td>\n",
       "      <td>0.824172</td>\n",
       "      <td>0.681138</td>\n",
       "      <td>0.911330</td>\n",
       "      <td>0.916728</td>\n",
       "      <td>0.553202</td>\n",
       "      <td>0.646947</td>\n",
       "      <td>0.806388</td>\n",
       "      <td>0.789200</td>\n",
       "      <td>0.784902</td>\n",
       "      <td>1.000000</td>\n",
       "      <td>0.856592</td>\n",
       "      <td>0.836285</td>\n",
       "      <td>0.873375</td>\n",
       "      <td>0.885808</td>\n",
       "      <td>0.631864</td>\n",
       "      <td>0.784902</td>\n",
       "      <td>0.967443</td>\n",
       "      <td>0.723169</td>\n",
       "    </tr>\n",
       "    <tr>\n",
       "      <th>X11</th>\n",
       "      <td>0.121160</td>\n",
       "      <td>0.641522</td>\n",
       "      <td>0.479374</td>\n",
       "      <td>0.781753</td>\n",
       "      <td>0.730642</td>\n",
       "      <td>0.415740</td>\n",
       "      <td>0.434078</td>\n",
       "      <td>0.645599</td>\n",
       "      <td>0.576519</td>\n",
       "      <td>0.581507</td>\n",
       "      <td>0.856592</td>\n",
       "      <td>1.000000</td>\n",
       "      <td>0.642340</td>\n",
       "      <td>0.706812</td>\n",
       "      <td>0.720538</td>\n",
       "      <td>0.317779</td>\n",
       "      <td>0.581507</td>\n",
       "      <td>0.921679</td>\n",
       "      <td>0.525833</td>\n",
       "    </tr>\n",
       "    <tr>\n",
       "      <th>X12</th>\n",
       "      <td>0.077256</td>\n",
       "      <td>0.806540</td>\n",
       "      <td>0.646028</td>\n",
       "      <td>0.712093</td>\n",
       "      <td>0.973745</td>\n",
       "      <td>0.504091</td>\n",
       "      <td>0.798147</td>\n",
       "      <td>0.745765</td>\n",
       "      <td>0.865917</td>\n",
       "      <td>0.765814</td>\n",
       "      <td>0.836285</td>\n",
       "      <td>0.642340</td>\n",
       "      <td>1.000000</td>\n",
       "      <td>0.896014</td>\n",
       "      <td>0.796224</td>\n",
       "      <td>0.650802</td>\n",
       "      <td>0.765814</td>\n",
       "      <td>0.782738</td>\n",
       "      <td>0.690268</td>\n",
       "    </tr>\n",
       "    <tr>\n",
       "      <th>X13</th>\n",
       "      <td>0.084388</td>\n",
       "      <td>0.839140</td>\n",
       "      <td>0.723855</td>\n",
       "      <td>0.796021</td>\n",
       "      <td>0.923711</td>\n",
       "      <td>0.657215</td>\n",
       "      <td>0.696554</td>\n",
       "      <td>0.731790</td>\n",
       "      <td>0.853052</td>\n",
       "      <td>0.856822</td>\n",
       "      <td>0.873375</td>\n",
       "      <td>0.706812</td>\n",
       "      <td>0.896014</td>\n",
       "      <td>1.000000</td>\n",
       "      <td>0.863670</td>\n",
       "      <td>0.608999</td>\n",
       "      <td>0.856822</td>\n",
       "      <td>0.832614</td>\n",
       "      <td>0.804304</td>\n",
       "    </tr>\n",
       "    <tr>\n",
       "      <th>X14</th>\n",
       "      <td>0.085043</td>\n",
       "      <td>0.903493</td>\n",
       "      <td>0.784213</td>\n",
       "      <td>0.752106</td>\n",
       "      <td>0.835342</td>\n",
       "      <td>0.719630</td>\n",
       "      <td>0.637441</td>\n",
       "      <td>0.872734</td>\n",
       "      <td>0.762850</td>\n",
       "      <td>0.858866</td>\n",
       "      <td>0.885808</td>\n",
       "      <td>0.720538</td>\n",
       "      <td>0.796224</td>\n",
       "      <td>0.863670</td>\n",
       "      <td>1.000000</td>\n",
       "      <td>0.585745</td>\n",
       "      <td>0.858866</td>\n",
       "      <td>0.897105</td>\n",
       "      <td>0.823712</td>\n",
       "    </tr>\n",
       "    <tr>\n",
       "      <th>X15</th>\n",
       "      <td>0.052765</td>\n",
       "      <td>0.549777</td>\n",
       "      <td>0.593223</td>\n",
       "      <td>0.588563</td>\n",
       "      <td>0.674287</td>\n",
       "      <td>0.436993</td>\n",
       "      <td>0.628653</td>\n",
       "      <td>0.570250</td>\n",
       "      <td>0.629782</td>\n",
       "      <td>0.635692</td>\n",
       "      <td>0.631864</td>\n",
       "      <td>0.317779</td>\n",
       "      <td>0.650802</td>\n",
       "      <td>0.608999</td>\n",
       "      <td>0.585745</td>\n",
       "      <td>1.000000</td>\n",
       "      <td>0.635692</td>\n",
       "      <td>0.530853</td>\n",
       "      <td>0.598858</td>\n",
       "    </tr>\n",
       "    <tr>\n",
       "      <th>X16</th>\n",
       "      <td>0.075471</td>\n",
       "      <td>0.758712</td>\n",
       "      <td>0.975963</td>\n",
       "      <td>0.700824</td>\n",
       "      <td>0.796124</td>\n",
       "      <td>0.791135</td>\n",
       "      <td>0.606444</td>\n",
       "      <td>0.726521</td>\n",
       "      <td>0.685420</td>\n",
       "      <td>1.000000</td>\n",
       "      <td>0.784902</td>\n",
       "      <td>0.581507</td>\n",
       "      <td>0.765814</td>\n",
       "      <td>0.856822</td>\n",
       "      <td>0.858866</td>\n",
       "      <td>0.635692</td>\n",
       "      <td>1.000000</td>\n",
       "      <td>0.754276</td>\n",
       "      <td>0.993149</td>\n",
       "    </tr>\n",
       "    <tr>\n",
       "      <th>X17</th>\n",
       "      <td>0.104300</td>\n",
       "      <td>0.794479</td>\n",
       "      <td>0.657386</td>\n",
       "      <td>0.877051</td>\n",
       "      <td>0.865836</td>\n",
       "      <td>0.557678</td>\n",
       "      <td>0.587707</td>\n",
       "      <td>0.807136</td>\n",
       "      <td>0.712536</td>\n",
       "      <td>0.754276</td>\n",
       "      <td>0.967443</td>\n",
       "      <td>0.921679</td>\n",
       "      <td>0.782738</td>\n",
       "      <td>0.832614</td>\n",
       "      <td>0.897105</td>\n",
       "      <td>0.530853</td>\n",
       "      <td>0.754276</td>\n",
       "      <td>1.000000</td>\n",
       "      <td>0.697872</td>\n",
       "    </tr>\n",
       "    <tr>\n",
       "      <th>X18</th>\n",
       "      <td>0.070588</td>\n",
       "      <td>0.713187</td>\n",
       "      <td>0.988994</td>\n",
       "      <td>0.639004</td>\n",
       "      <td>0.719960</td>\n",
       "      <td>0.808342</td>\n",
       "      <td>0.547576</td>\n",
       "      <td>0.682650</td>\n",
       "      <td>0.620050</td>\n",
       "      <td>0.993149</td>\n",
       "      <td>0.723169</td>\n",
       "      <td>0.525833</td>\n",
       "      <td>0.690268</td>\n",
       "      <td>0.804304</td>\n",
       "      <td>0.823712</td>\n",
       "      <td>0.598858</td>\n",
       "      <td>0.993149</td>\n",
       "      <td>0.697872</td>\n",
       "      <td>1.000000</td>\n",
       "    </tr>\n",
       "  </tbody>\n",
       "</table>\n",
       "</div>"
      ],
      "text/plain": [
       "          year        X1        X2        X3        X4        X5        X6  \\\n",
       "year  1.000000  0.096764  0.065320  0.078040  0.082694  0.073918  0.063232   \n",
       "X1    0.096764  1.000000  0.660564  0.659173  0.812872  0.638698  0.657366   \n",
       "X2    0.065320  0.660564  1.000000  0.601328  0.674880  0.780846  0.517079   \n",
       "X3    0.078040  0.659173  0.601328  1.000000  0.853222  0.426229  0.534297   \n",
       "X4    0.082694  0.812872  0.674880  0.853222  1.000000  0.512667  0.766148   \n",
       "X5    0.073918  0.638698  0.780846  0.426229  0.512667  1.000000  0.395436   \n",
       "X6    0.063232  0.657366  0.517079  0.534297  0.766148  0.395436  1.000000   \n",
       "X7    0.082141  0.851945  0.662863  0.696474  0.779820  0.503019  0.588943   \n",
       "X8    0.080689  0.826568  0.556610  0.668160  0.859896  0.483074  0.714706   \n",
       "X9    0.075471  0.758712  0.975963  0.700824  0.796124  0.791135  0.606444   \n",
       "X10   0.100649  0.824172  0.681138  0.911330  0.916728  0.553202  0.646947   \n",
       "X11   0.121160  0.641522  0.479374  0.781753  0.730642  0.415740  0.434078   \n",
       "X12   0.077256  0.806540  0.646028  0.712093  0.973745  0.504091  0.798147   \n",
       "X13   0.084388  0.839140  0.723855  0.796021  0.923711  0.657215  0.696554   \n",
       "X14   0.085043  0.903493  0.784213  0.752106  0.835342  0.719630  0.637441   \n",
       "X15   0.052765  0.549777  0.593223  0.588563  0.674287  0.436993  0.628653   \n",
       "X16   0.075471  0.758712  0.975963  0.700824  0.796124  0.791135  0.606444   \n",
       "X17   0.104300  0.794479  0.657386  0.877051  0.865836  0.557678  0.587707   \n",
       "X18   0.070588  0.713187  0.988994  0.639004  0.719960  0.808342  0.547576   \n",
       "\n",
       "            X7        X8        X9       X10       X11       X12       X13  \\\n",
       "year  0.082141  0.080689  0.075471  0.100649  0.121160  0.077256  0.084388   \n",
       "X1    0.851945  0.826568  0.758712  0.824172  0.641522  0.806540  0.839140   \n",
       "X2    0.662863  0.556610  0.975963  0.681138  0.479374  0.646028  0.723855   \n",
       "X3    0.696474  0.668160  0.700824  0.911330  0.781753  0.712093  0.796021   \n",
       "X4    0.779820  0.859896  0.796124  0.916728  0.730642  0.973745  0.923711   \n",
       "X5    0.503019  0.483074  0.791135  0.553202  0.415740  0.504091  0.657215   \n",
       "X6    0.588943  0.714706  0.606444  0.646947  0.434078  0.798147  0.696554   \n",
       "X7    1.000000  0.684549  0.726521  0.806388  0.645599  0.745765  0.731790   \n",
       "X8    0.684549  1.000000  0.685420  0.789200  0.576519  0.865917  0.853052   \n",
       "X9    0.726521  0.685420  1.000000  0.784902  0.581507  0.765814  0.856822   \n",
       "X10   0.806388  0.789200  0.784902  1.000000  0.856592  0.836285  0.873375   \n",
       "X11   0.645599  0.576519  0.581507  0.856592  1.000000  0.642340  0.706812   \n",
       "X12   0.745765  0.865917  0.765814  0.836285  0.642340  1.000000  0.896014   \n",
       "X13   0.731790  0.853052  0.856822  0.873375  0.706812  0.896014  1.000000   \n",
       "X14   0.872734  0.762850  0.858866  0.885808  0.720538  0.796224  0.863670   \n",
       "X15   0.570250  0.629782  0.635692  0.631864  0.317779  0.650802  0.608999   \n",
       "X16   0.726521  0.685420  1.000000  0.784902  0.581507  0.765814  0.856822   \n",
       "X17   0.807136  0.712536  0.754276  0.967443  0.921679  0.782738  0.832614   \n",
       "X18   0.682650  0.620050  0.993149  0.723169  0.525833  0.690268  0.804304   \n",
       "\n",
       "           X14       X15       X16       X17       X18  \n",
       "year  0.085043  0.052765  0.075471  0.104300  0.070588  \n",
       "X1    0.903493  0.549777  0.758712  0.794479  0.713187  \n",
       "X2    0.784213  0.593223  0.975963  0.657386  0.988994  \n",
       "X3    0.752106  0.588563  0.700824  0.877051  0.639004  \n",
       "X4    0.835342  0.674287  0.796124  0.865836  0.719960  \n",
       "X5    0.719630  0.436993  0.791135  0.557678  0.808342  \n",
       "X6    0.637441  0.628653  0.606444  0.587707  0.547576  \n",
       "X7    0.872734  0.570250  0.726521  0.807136  0.682650  \n",
       "X8    0.762850  0.629782  0.685420  0.712536  0.620050  \n",
       "X9    0.858866  0.635692  1.000000  0.754276  0.993149  \n",
       "X10   0.885808  0.631864  0.784902  0.967443  0.723169  \n",
       "X11   0.720538  0.317779  0.581507  0.921679  0.525833  \n",
       "X12   0.796224  0.650802  0.765814  0.782738  0.690268  \n",
       "X13   0.863670  0.608999  0.856822  0.832614  0.804304  \n",
       "X14   1.000000  0.585745  0.858866  0.897105  0.823712  \n",
       "X15   0.585745  1.000000  0.635692  0.530853  0.598858  \n",
       "X16   0.858866  0.635692  1.000000  0.754276  0.993149  \n",
       "X17   0.897105  0.530853  0.754276  1.000000  0.697872  \n",
       "X18   0.823712  0.598858  0.993149  0.697872  1.000000  "
      ]
     },
     "execution_count": 215,
     "metadata": {},
     "output_type": "execute_result"
    }
   ],
   "source": [
    "# Correlación de las variables numéricas\n",
    "\n",
    "default_num = default.drop(\"status_label\",axis=1)\n",
    "default_num.corr()\n"
   ]
  },
  {
   "cell_type": "code",
   "execution_count": 216,
   "id": "f5e29da0-e633-4429-a5a3-c7f0c4f36728",
   "metadata": {
    "tags": []
   },
   "outputs": [
    {
     "data": {
      "text/plain": [
       "<Axes: >"
      ]
     },
     "execution_count": 216,
     "metadata": {},
     "output_type": "execute_result"
    },
    {
     "data": {
      "image/png": "[encoded data removed]",
      "text/plain": [
       "<Figure size 640x480 with 2 Axes>"
      ]
     },
     "metadata": {},
     "output_type": "display_data"
    }
   ],
   "source": [
    "# Mapa de correlaciones\n",
    "sns.heatmap(default_num.corr())"
   ]
  },
  {
   "cell_type": "markdown",
   "id": "bb892156-8efd-4e21-ba59-536731e32f0e",
   "metadata": {},
   "source": [
    "Podemos observar en el Mapa de Correlaciones ciertas observaciones. En primer lugar, vemos como las variables X2 (Costo de bienes vendidos: Costo total directamente relacionado con la venta de productos), X9 (Ventas netas: Ventas brutas menos devoluciones, bonificaciones y descuentos), X16 (Ingresos Totales: Ingreso total de ventas antes de gastos) y X18 (Gastos Operativos Totales: Gastos de operación del negocio) tienen una estrecha correlación. Esto se debe a que todas las variables están relacionadas con la actividad comercial de la empresa.\n",
    "\n",
    "En segundo lugar, podemos osbervar también una estrecha correlación entre las variables X12 (EBIT: Ganancias antes de intereses e impuestos) y X4 (EBITDA: Ganancias antes de intereses, impuestos, depreciación y amortización; medida alternativa del rendimiento financiero en comparación con el ingreso neto). Totalmente lógico, pues X12 es el resultado de restarle a X4 la depreciación y amortización."
   ]
  },
  {
   "cell_type": "code",
   "execution_count": 218,
   "id": "5a6b894c-88f0-4abc-bd9d-7a82980f2264",
   "metadata": {
    "tags": []
   },
   "outputs": [
    {
     "data": {
      "text/plain": [
       "status_label    0\n",
       "year            0\n",
       "X1              0\n",
       "X2              0\n",
       "X3              0\n",
       "X4              0\n",
       "X5              0\n",
       "X6              0\n",
       "X7              0\n",
       "X8              0\n",
       "X9              0\n",
       "X10             0\n",
       "X11             0\n",
       "X12             0\n",
       "X13             0\n",
       "X14             0\n",
       "X15             0\n",
       "X16             0\n",
       "X17             0\n",
       "X18             0\n",
       "dtype: int64"
      ]
     },
     "execution_count": 218,
     "metadata": {},
     "output_type": "execute_result"
    }
   ],
   "source": [
    "# Estudiamos si existen valores NA\n",
    "\n",
    "default.isnull().sum()"
   ]
  },
  {
   "cell_type": "markdown",
   "id": "df09f389-3a08-428a-9b64-f8be4a68f38f",
   "metadata": {},
   "source": [
    "No encontramos valores NA"
   ]
  },
  {
   "cell_type": "markdown",
   "id": "9db241f7-0fe4-4a72-8e62-82954f808afe",
   "metadata": {},
   "source": [
    "#### Transformación variables categóricas\n",
    "\n",
    "Debemos transformar las variables categoricas para poder estimar el modelo. Para ello debemos transformar la variable categórica \"status_label\" a numérica."
   ]
  },
  {
   "cell_type": "code",
   "execution_count": 221,
   "id": "cd970e5b-1fc7-4d9b-bd62-2e3e025edf8f",
   "metadata": {
    "tags": []
   },
   "outputs": [
    {
     "data": {
      "text/html": [
       "<div>\n",
       "<style scoped>\n",
       "    .dataframe tbody tr th:only-of-type {\n",
       "        vertical-align: middle;\n",
       "    }\n",
       "\n",
       "    .dataframe tbody tr th {\n",
       "        vertical-align: top;\n",
       "    }\n",
       "\n",
       "    .dataframe thead th {\n",
       "        text-align: right;\n",
       "    }\n",
       "</style>\n",
       "<table border=\"1\" class=\"dataframe\">\n",
       "  <thead>\n",
       "    <tr style=\"text-align: right;\">\n",
       "      <th></th>\n",
       "      <th>failed</th>\n",
       "    </tr>\n",
       "    <tr>\n",
       "      <th>company_name</th>\n",
       "      <th></th>\n",
       "    </tr>\n",
       "  </thead>\n",
       "  <tbody>\n",
       "    <tr>\n",
       "      <th>C_1</th>\n",
       "      <td>False</td>\n",
       "    </tr>\n",
       "    <tr>\n",
       "      <th>C_1</th>\n",
       "      <td>False</td>\n",
       "    </tr>\n",
       "    <tr>\n",
       "      <th>C_1</th>\n",
       "      <td>False</td>\n",
       "    </tr>\n",
       "    <tr>\n",
       "      <th>C_1</th>\n",
       "      <td>False</td>\n",
       "    </tr>\n",
       "    <tr>\n",
       "      <th>C_1</th>\n",
       "      <td>False</td>\n",
       "    </tr>\n",
       "    <tr>\n",
       "      <th>...</th>\n",
       "      <td>...</td>\n",
       "    </tr>\n",
       "    <tr>\n",
       "      <th>C_8971</th>\n",
       "      <td>False</td>\n",
       "    </tr>\n",
       "    <tr>\n",
       "      <th>C_8971</th>\n",
       "      <td>False</td>\n",
       "    </tr>\n",
       "    <tr>\n",
       "      <th>C_8971</th>\n",
       "      <td>False</td>\n",
       "    </tr>\n",
       "    <tr>\n",
       "      <th>C_8971</th>\n",
       "      <td>False</td>\n",
       "    </tr>\n",
       "    <tr>\n",
       "      <th>C_8971</th>\n",
       "      <td>False</td>\n",
       "    </tr>\n",
       "  </tbody>\n",
       "</table>\n",
       "<p>78682 rows × 1 columns</p>\n",
       "</div>"
      ],
      "text/plain": [
       "              failed\n",
       "company_name        \n",
       "C_1            False\n",
       "C_1            False\n",
       "C_1            False\n",
       "C_1            False\n",
       "C_1            False\n",
       "...              ...\n",
       "C_8971         False\n",
       "C_8971         False\n",
       "C_8971         False\n",
       "C_8971         False\n",
       "C_8971         False\n",
       "\n",
       "[78682 rows x 1 columns]"
      ]
     },
     "execution_count": 221,
     "metadata": {},
     "output_type": "execute_result"
    }
   ],
   "source": [
    "status_label = pd.get_dummies(default[\"status_label\"],drop_first=True)\n",
    "status_label"
   ]
  },
  {
   "cell_type": "markdown",
   "id": "de99cc4a-6b4d-4b4b-a3ee-ed05793b4162",
   "metadata": {},
   "source": [
    "Como son variables booleanas, las transformamos a bianrias."
   ]
  },
  {
   "cell_type": "code",
   "execution_count": 223,
   "id": "13635141-f181-4c51-a348-f80a1d1330da",
   "metadata": {
    "tags": []
   },
   "outputs": [
    {
     "data": {
      "text/html": [
       "<div>\n",
       "<style scoped>\n",
       "    .dataframe tbody tr th:only-of-type {\n",
       "        vertical-align: middle;\n",
       "    }\n",
       "\n",
       "    .dataframe tbody tr th {\n",
       "        vertical-align: top;\n",
       "    }\n",
       "\n",
       "    .dataframe thead th {\n",
       "        text-align: right;\n",
       "    }\n",
       "</style>\n",
       "<table border=\"1\" class=\"dataframe\">\n",
       "  <thead>\n",
       "    <tr style=\"text-align: right;\">\n",
       "      <th></th>\n",
       "      <th>failed</th>\n",
       "    </tr>\n",
       "    <tr>\n",
       "      <th>company_name</th>\n",
       "      <th></th>\n",
       "    </tr>\n",
       "  </thead>\n",
       "  <tbody>\n",
       "    <tr>\n",
       "      <th>C_1</th>\n",
       "      <td>0</td>\n",
       "    </tr>\n",
       "    <tr>\n",
       "      <th>C_1</th>\n",
       "      <td>0</td>\n",
       "    </tr>\n",
       "    <tr>\n",
       "      <th>C_1</th>\n",
       "      <td>0</td>\n",
       "    </tr>\n",
       "    <tr>\n",
       "      <th>C_1</th>\n",
       "      <td>0</td>\n",
       "    </tr>\n",
       "    <tr>\n",
       "      <th>C_1</th>\n",
       "      <td>0</td>\n",
       "    </tr>\n",
       "    <tr>\n",
       "      <th>...</th>\n",
       "      <td>...</td>\n",
       "    </tr>\n",
       "    <tr>\n",
       "      <th>C_8971</th>\n",
       "      <td>0</td>\n",
       "    </tr>\n",
       "    <tr>\n",
       "      <th>C_8971</th>\n",
       "      <td>0</td>\n",
       "    </tr>\n",
       "    <tr>\n",
       "      <th>C_8971</th>\n",
       "      <td>0</td>\n",
       "    </tr>\n",
       "    <tr>\n",
       "      <th>C_8971</th>\n",
       "      <td>0</td>\n",
       "    </tr>\n",
       "    <tr>\n",
       "      <th>C_8971</th>\n",
       "      <td>0</td>\n",
       "    </tr>\n",
       "  </tbody>\n",
       "</table>\n",
       "<p>78682 rows × 1 columns</p>\n",
       "</div>"
      ],
      "text/plain": [
       "              failed\n",
       "company_name        \n",
       "C_1                0\n",
       "C_1                0\n",
       "C_1                0\n",
       "C_1                0\n",
       "C_1                0\n",
       "...              ...\n",
       "C_8971             0\n",
       "C_8971             0\n",
       "C_8971             0\n",
       "C_8971             0\n",
       "C_8971             0\n",
       "\n",
       "[78682 rows x 1 columns]"
      ]
     },
     "execution_count": 223,
     "metadata": {},
     "output_type": "execute_result"
    }
   ],
   "source": [
    "status_label = status_label.astype(int)\n",
    "status_label"
   ]
  },
  {
   "cell_type": "markdown",
   "id": "ca4177d8-ab5b-40fd-8272-a1c066511ed1",
   "metadata": {},
   "source": [
    "Podemos observar que las variables cambian a 0 si el banco no ha entrado en bancarrota y 1 si lo ha hecho. \n",
    "\n",
    "Ahora debemos juntar el DataFrame \"status_label\" con el DataFrame numérico para definir el nuevo DataFrame numérico y poder estimar nuestro modelo. "
   ]
  },
  {
   "cell_type": "code",
   "execution_count": 225,
   "id": "11dccb97-90cc-45a6-b2a3-cccee35a22e6",
   "metadata": {
    "tags": []
   },
   "outputs": [
    {
     "data": {
      "text/html": [
       "<div>\n",
       "<style scoped>\n",
       "    .dataframe tbody tr th:only-of-type {\n",
       "        vertical-align: middle;\n",
       "    }\n",
       "\n",
       "    .dataframe tbody tr th {\n",
       "        vertical-align: top;\n",
       "    }\n",
       "\n",
       "    .dataframe thead th {\n",
       "        text-align: right;\n",
       "    }\n",
       "</style>\n",
       "<table border=\"1\" class=\"dataframe\">\n",
       "  <thead>\n",
       "    <tr style=\"text-align: right;\">\n",
       "      <th></th>\n",
       "      <th>failed</th>\n",
       "      <th>year</th>\n",
       "      <th>X1</th>\n",
       "      <th>X2</th>\n",
       "      <th>X3</th>\n",
       "      <th>X4</th>\n",
       "      <th>X5</th>\n",
       "      <th>X6</th>\n",
       "      <th>X7</th>\n",
       "      <th>X8</th>\n",
       "      <th>X9</th>\n",
       "      <th>X10</th>\n",
       "      <th>X11</th>\n",
       "      <th>X12</th>\n",
       "      <th>X13</th>\n",
       "      <th>X14</th>\n",
       "      <th>X15</th>\n",
       "      <th>X16</th>\n",
       "      <th>X17</th>\n",
       "      <th>X18</th>\n",
       "    </tr>\n",
       "    <tr>\n",
       "      <th>company_name</th>\n",
       "      <th></th>\n",
       "      <th></th>\n",
       "      <th></th>\n",
       "      <th></th>\n",
       "      <th></th>\n",
       "      <th></th>\n",
       "      <th></th>\n",
       "      <th></th>\n",
       "      <th></th>\n",
       "      <th></th>\n",
       "      <th></th>\n",
       "      <th></th>\n",
       "      <th></th>\n",
       "      <th></th>\n",
       "      <th></th>\n",
       "      <th></th>\n",
       "      <th></th>\n",
       "      <th></th>\n",
       "      <th></th>\n",
       "      <th></th>\n",
       "    </tr>\n",
       "  </thead>\n",
       "  <tbody>\n",
       "    <tr>\n",
       "      <th>C_1</th>\n",
       "      <td>0</td>\n",
       "      <td>1999</td>\n",
       "      <td>511.267</td>\n",
       "      <td>833.107</td>\n",
       "      <td>18.373</td>\n",
       "      <td>89.031</td>\n",
       "      <td>336.018</td>\n",
       "      <td>35.163</td>\n",
       "      <td>128.348</td>\n",
       "      <td>372.7519</td>\n",
       "      <td>1024.333</td>\n",
       "      <td>740.998</td>\n",
       "      <td>180.447</td>\n",
       "      <td>70.658</td>\n",
       "      <td>191.226</td>\n",
       "      <td>163.816</td>\n",
       "      <td>201.026</td>\n",
       "      <td>1024.333</td>\n",
       "      <td>401.483</td>\n",
       "      <td>935.302</td>\n",
       "    </tr>\n",
       "    <tr>\n",
       "      <th>C_1</th>\n",
       "      <td>0</td>\n",
       "      <td>2000</td>\n",
       "      <td>485.856</td>\n",
       "      <td>713.811</td>\n",
       "      <td>18.577</td>\n",
       "      <td>64.367</td>\n",
       "      <td>320.590</td>\n",
       "      <td>18.531</td>\n",
       "      <td>115.187</td>\n",
       "      <td>377.1180</td>\n",
       "      <td>874.255</td>\n",
       "      <td>701.854</td>\n",
       "      <td>179.987</td>\n",
       "      <td>45.790</td>\n",
       "      <td>160.444</td>\n",
       "      <td>125.392</td>\n",
       "      <td>204.065</td>\n",
       "      <td>874.255</td>\n",
       "      <td>361.642</td>\n",
       "      <td>809.888</td>\n",
       "    </tr>\n",
       "    <tr>\n",
       "      <th>C_1</th>\n",
       "      <td>0</td>\n",
       "      <td>2001</td>\n",
       "      <td>436.656</td>\n",
       "      <td>526.477</td>\n",
       "      <td>22.496</td>\n",
       "      <td>27.207</td>\n",
       "      <td>286.588</td>\n",
       "      <td>-58.939</td>\n",
       "      <td>77.528</td>\n",
       "      <td>364.5928</td>\n",
       "      <td>638.721</td>\n",
       "      <td>710.199</td>\n",
       "      <td>217.699</td>\n",
       "      <td>4.711</td>\n",
       "      <td>112.244</td>\n",
       "      <td>150.464</td>\n",
       "      <td>139.603</td>\n",
       "      <td>638.721</td>\n",
       "      <td>399.964</td>\n",
       "      <td>611.514</td>\n",
       "    </tr>\n",
       "    <tr>\n",
       "      <th>C_1</th>\n",
       "      <td>0</td>\n",
       "      <td>2002</td>\n",
       "      <td>396.412</td>\n",
       "      <td>496.747</td>\n",
       "      <td>27.172</td>\n",
       "      <td>30.745</td>\n",
       "      <td>259.954</td>\n",
       "      <td>-12.410</td>\n",
       "      <td>66.322</td>\n",
       "      <td>143.3295</td>\n",
       "      <td>606.337</td>\n",
       "      <td>686.621</td>\n",
       "      <td>164.658</td>\n",
       "      <td>3.573</td>\n",
       "      <td>109.590</td>\n",
       "      <td>203.575</td>\n",
       "      <td>124.106</td>\n",
       "      <td>606.337</td>\n",
       "      <td>391.633</td>\n",
       "      <td>575.592</td>\n",
       "    </tr>\n",
       "    <tr>\n",
       "      <th>C_1</th>\n",
       "      <td>0</td>\n",
       "      <td>2003</td>\n",
       "      <td>432.204</td>\n",
       "      <td>523.302</td>\n",
       "      <td>26.680</td>\n",
       "      <td>47.491</td>\n",
       "      <td>247.245</td>\n",
       "      <td>3.504</td>\n",
       "      <td>104.661</td>\n",
       "      <td>308.9071</td>\n",
       "      <td>651.958</td>\n",
       "      <td>709.292</td>\n",
       "      <td>248.666</td>\n",
       "      <td>20.811</td>\n",
       "      <td>128.656</td>\n",
       "      <td>131.261</td>\n",
       "      <td>131.884</td>\n",
       "      <td>651.958</td>\n",
       "      <td>407.608</td>\n",
       "      <td>604.467</td>\n",
       "    </tr>\n",
       "    <tr>\n",
       "      <th>...</th>\n",
       "      <td>...</td>\n",
       "      <td>...</td>\n",
       "      <td>...</td>\n",
       "      <td>...</td>\n",
       "      <td>...</td>\n",
       "      <td>...</td>\n",
       "      <td>...</td>\n",
       "      <td>...</td>\n",
       "      <td>...</td>\n",
       "      <td>...</td>\n",
       "      <td>...</td>\n",
       "      <td>...</td>\n",
       "      <td>...</td>\n",
       "      <td>...</td>\n",
       "      <td>...</td>\n",
       "      <td>...</td>\n",
       "      <td>...</td>\n",
       "      <td>...</td>\n",
       "      <td>...</td>\n",
       "      <td>...</td>\n",
       "    </tr>\n",
       "    <tr>\n",
       "      <th>C_8971</th>\n",
       "      <td>0</td>\n",
       "      <td>2014</td>\n",
       "      <td>233.211</td>\n",
       "      <td>43.338</td>\n",
       "      <td>14.094</td>\n",
       "      <td>45.615</td>\n",
       "      <td>3.376</td>\n",
       "      <td>25.261</td>\n",
       "      <td>22.846</td>\n",
       "      <td>756.4827</td>\n",
       "      <td>104.223</td>\n",
       "      <td>1099.101</td>\n",
       "      <td>184.666</td>\n",
       "      <td>31.521</td>\n",
       "      <td>60.885</td>\n",
       "      <td>28.197</td>\n",
       "      <td>28.095</td>\n",
       "      <td>104.223</td>\n",
       "      <td>225.887</td>\n",
       "      <td>58.608</td>\n",
       "    </tr>\n",
       "    <tr>\n",
       "      <th>C_8971</th>\n",
       "      <td>0</td>\n",
       "      <td>2015</td>\n",
       "      <td>105.559</td>\n",
       "      <td>59.184</td>\n",
       "      <td>42.592</td>\n",
       "      <td>202.133</td>\n",
       "      <td>2.288</td>\n",
       "      <td>129.688</td>\n",
       "      <td>54.611</td>\n",
       "      <td>527.5750</td>\n",
       "      <td>291.153</td>\n",
       "      <td>1865.926</td>\n",
       "      <td>770.103</td>\n",
       "      <td>159.541</td>\n",
       "      <td>231.969</td>\n",
       "      <td>88.128</td>\n",
       "      <td>157.783</td>\n",
       "      <td>291.153</td>\n",
       "      <td>880.327</td>\n",
       "      <td>89.020</td>\n",
       "    </tr>\n",
       "    <tr>\n",
       "      <th>C_8971</th>\n",
       "      <td>0</td>\n",
       "      <td>2016</td>\n",
       "      <td>63.971</td>\n",
       "      <td>69.074</td>\n",
       "      <td>65.057</td>\n",
       "      <td>79.051</td>\n",
       "      <td>2.581</td>\n",
       "      <td>-1.442</td>\n",
       "      <td>42.467</td>\n",
       "      <td>578.8868</td>\n",
       "      <td>169.858</td>\n",
       "      <td>1746.235</td>\n",
       "      <td>683.985</td>\n",
       "      <td>13.994</td>\n",
       "      <td>100.784</td>\n",
       "      <td>85.765</td>\n",
       "      <td>156.341</td>\n",
       "      <td>169.858</td>\n",
       "      <td>770.233</td>\n",
       "      <td>90.807</td>\n",
       "    </tr>\n",
       "    <tr>\n",
       "      <th>C_8971</th>\n",
       "      <td>0</td>\n",
       "      <td>2017</td>\n",
       "      <td>135.207</td>\n",
       "      <td>66.527</td>\n",
       "      <td>65.330</td>\n",
       "      <td>69.171</td>\n",
       "      <td>2.013</td>\n",
       "      <td>-20.401</td>\n",
       "      <td>27.217</td>\n",
       "      <td>412.6241</td>\n",
       "      <td>161.884</td>\n",
       "      <td>1736.110</td>\n",
       "      <td>694.035</td>\n",
       "      <td>3.841</td>\n",
       "      <td>95.357</td>\n",
       "      <td>82.010</td>\n",
       "      <td>135.941</td>\n",
       "      <td>161.884</td>\n",
       "      <td>776.697</td>\n",
       "      <td>92.713</td>\n",
       "    </tr>\n",
       "    <tr>\n",
       "      <th>C_8971</th>\n",
       "      <td>0</td>\n",
       "      <td>2018</td>\n",
       "      <td>82.589</td>\n",
       "      <td>68.817</td>\n",
       "      <td>65.201</td>\n",
       "      <td>67.262</td>\n",
       "      <td>2.112</td>\n",
       "      <td>-50.946</td>\n",
       "      <td>45.839</td>\n",
       "      <td>354.1786</td>\n",
       "      <td>160.513</td>\n",
       "      <td>1625.370</td>\n",
       "      <td>632.122</td>\n",
       "      <td>2.061</td>\n",
       "      <td>91.696</td>\n",
       "      <td>79.365</td>\n",
       "      <td>84.995</td>\n",
       "      <td>160.513</td>\n",
       "      <td>712.687</td>\n",
       "      <td>93.251</td>\n",
       "    </tr>\n",
       "  </tbody>\n",
       "</table>\n",
       "<p>78682 rows × 20 columns</p>\n",
       "</div>"
      ],
      "text/plain": [
       "              failed  year       X1       X2      X3       X4       X5  \\\n",
       "company_name                                                             \n",
       "C_1                0  1999  511.267  833.107  18.373   89.031  336.018   \n",
       "C_1                0  2000  485.856  713.811  18.577   64.367  320.590   \n",
       "C_1                0  2001  436.656  526.477  22.496   27.207  286.588   \n",
       "C_1                0  2002  396.412  496.747  27.172   30.745  259.954   \n",
       "C_1                0  2003  432.204  523.302  26.680   47.491  247.245   \n",
       "...              ...   ...      ...      ...     ...      ...      ...   \n",
       "C_8971             0  2014  233.211   43.338  14.094   45.615    3.376   \n",
       "C_8971             0  2015  105.559   59.184  42.592  202.133    2.288   \n",
       "C_8971             0  2016   63.971   69.074  65.057   79.051    2.581   \n",
       "C_8971             0  2017  135.207   66.527  65.330   69.171    2.013   \n",
       "C_8971             0  2018   82.589   68.817  65.201   67.262    2.112   \n",
       "\n",
       "                   X6       X7        X8        X9       X10      X11  \\\n",
       "company_name                                                            \n",
       "C_1            35.163  128.348  372.7519  1024.333   740.998  180.447   \n",
       "C_1            18.531  115.187  377.1180   874.255   701.854  179.987   \n",
       "C_1           -58.939   77.528  364.5928   638.721   710.199  217.699   \n",
       "C_1           -12.410   66.322  143.3295   606.337   686.621  164.658   \n",
       "C_1             3.504  104.661  308.9071   651.958   709.292  248.666   \n",
       "...               ...      ...       ...       ...       ...      ...   \n",
       "C_8971         25.261   22.846  756.4827   104.223  1099.101  184.666   \n",
       "C_8971        129.688   54.611  527.5750   291.153  1865.926  770.103   \n",
       "C_8971         -1.442   42.467  578.8868   169.858  1746.235  683.985   \n",
       "C_8971        -20.401   27.217  412.6241   161.884  1736.110  694.035   \n",
       "C_8971        -50.946   45.839  354.1786   160.513  1625.370  632.122   \n",
       "\n",
       "                  X12      X13      X14      X15       X16      X17      X18  \n",
       "company_name                                                                  \n",
       "C_1            70.658  191.226  163.816  201.026  1024.333  401.483  935.302  \n",
       "C_1            45.790  160.444  125.392  204.065   874.255  361.642  809.888  \n",
       "C_1             4.711  112.244  150.464  139.603   638.721  399.964  611.514  \n",
       "C_1             3.573  109.590  203.575  124.106   606.337  391.633  575.592  \n",
       "C_1            20.811  128.656  131.261  131.884   651.958  407.608  604.467  \n",
       "...               ...      ...      ...      ...       ...      ...      ...  \n",
       "C_8971         31.521   60.885   28.197   28.095   104.223  225.887   58.608  \n",
       "C_8971        159.541  231.969   88.128  157.783   291.153  880.327   89.020  \n",
       "C_8971         13.994  100.784   85.765  156.341   169.858  770.233   90.807  \n",
       "C_8971          3.841   95.357   82.010  135.941   161.884  776.697   92.713  \n",
       "C_8971          2.061   91.696   79.365   84.995   160.513  712.687   93.251  \n",
       "\n",
       "[78682 rows x 20 columns]"
      ]
     },
     "execution_count": 225,
     "metadata": {},
     "output_type": "execute_result"
    }
   ],
   "source": [
    "default = pd.concat([status_label,default_num],axis=1)\n",
    "default"
   ]
  },
  {
   "cell_type": "markdown",
   "id": "aae1145b-7b65-4d66-9d78-1dba25ab4437",
   "metadata": {},
   "source": [
    "#### Estimación de la Regresión Logística"
   ]
  },
  {
   "cell_type": "markdown",
   "id": "179911c6-ee45-43ca-b15f-a30ae166e108",
   "metadata": {},
   "source": [
    "En primer lugar, debemos separar las variables en explicativas <b>X</b> y explicada <b>y</b> y, además, separar la muestra en un 70% para estimar el modelo y un 30% para evaluarlo. En nuestro caso la variable <b>y</b> es \"status_label\" y el resto de variables las variables <b>X</b>."
   ]
  },
  {
   "cell_type": "code",
   "execution_count": 228,
   "id": "aaeb6369-e994-498e-a7a1-cd3de36f5862",
   "metadata": {
    "tags": []
   },
   "outputs": [],
   "source": [
    "X = default.drop(\"failed\",axis=1)\n",
    "y = default[\"failed\"]"
   ]
  },
  {
   "cell_type": "code",
   "execution_count": 229,
   "id": "411c23f0-7c1b-45b4-a806-7b560bf30c52",
   "metadata": {
    "tags": []
   },
   "outputs": [],
   "source": [
    "X_train, X_test, y_train, y_test = train_test_split(X,y,test_size=0.3,random_state=123456789)"
   ]
  },
  {
   "cell_type": "code",
   "execution_count": 230,
   "id": "6d550561-d5c9-414f-b22f-6902d50409ec",
   "metadata": {
    "tags": []
   },
   "outputs": [
    {
     "name": "stderr",
     "output_type": "stream",
     "text": [
      "C:\\Users\\pauri\\anaconda3\\Lib\\site-packages\\sklearn\\linear_model\\_logistic.py:458: ConvergenceWarning: lbfgs failed to converge (status=1):\n",
      "STOP: TOTAL NO. of ITERATIONS REACHED LIMIT.\n",
      "\n",
      "Increase the number of iterations (max_iter) or scale the data as shown in:\n",
      "    https://scikit-learn.org/stable/modules/preprocessing.html\n",
      "Please also refer to the documentation for alternative solver options:\n",
      "    https://scikit-learn.org/stable/modules/linear_model.html#logistic-regression\n",
      "  n_iter_i = _check_optimize_result(\n"
     ]
    },
    {
     "data": {
      "text/html": [
       "<style>#sk-container-id-3 {color: black;background-color: white;}#sk-container-id-3 pre{padding: 0;}#sk-container-id-3 div.sk-toggleable {background-color: white;}#sk-container-id-3 label.sk-toggleable__label {cursor: pointer;display: block;width: 100%;margin-bottom: 0;padding: 0.3em;box-sizing: border-box;text-align: center;}#sk-container-id-3 label.sk-toggleable__label-arrow:before {content: \"▸\";float: left;margin-right: 0.25em;color: #696969;}#sk-container-id-3 label.sk-toggleable__label-arrow:hover:before {color: black;}#sk-container-id-3 div.sk-estimator:hover label.sk-toggleable__label-arrow:before {color: black;}#sk-container-id-3 div.sk-toggleable__content {max-height: 0;max-width: 0;overflow: hidden;text-align: left;background-color: #f0f8ff;}#sk-container-id-3 div.sk-toggleable__content pre {margin: 0.2em;color: black;border-radius: 0.25em;background-color: #f0f8ff;}#sk-container-id-3 input.sk-toggleable__control:checked~div.sk-toggleable__content {max-height: 200px;max-width: 100%;overflow: auto;}#sk-container-id-3 input.sk-toggleable__control:checked~label.sk-toggleable__label-arrow:before {content: \"▾\";}#sk-container-id-3 div.sk-estimator input.sk-toggleable__control:checked~label.sk-toggleable__label {background-color: #d4ebff;}#sk-container-id-3 div.sk-label input.sk-toggleable__control:checked~label.sk-toggleable__label {background-color: #d4ebff;}#sk-container-id-3 input.sk-hidden--visually {border: 0;clip: rect(1px 1px 1px 1px);clip: rect(1px, 1px, 1px, 1px);height: 1px;margin: -1px;overflow: hidden;padding: 0;position: absolute;width: 1px;}#sk-container-id-3 div.sk-estimator {font-family: monospace;background-color: #f0f8ff;border: 1px dotted black;border-radius: 0.25em;box-sizing: border-box;margin-bottom: 0.5em;}#sk-container-id-3 div.sk-estimator:hover {background-color: #d4ebff;}#sk-container-id-3 div.sk-parallel-item::after {content: \"\";width: 100%;border-bottom: 1px solid gray;flex-grow: 1;}#sk-container-id-3 div.sk-label:hover label.sk-toggleable__label {background-color: #d4ebff;}#sk-container-id-3 div.sk-serial::before {content: \"\";position: absolute;border-left: 1px solid gray;box-sizing: border-box;top: 0;bottom: 0;left: 50%;z-index: 0;}#sk-container-id-3 div.sk-serial {display: flex;flex-direction: column;align-items: center;background-color: white;padding-right: 0.2em;padding-left: 0.2em;position: relative;}#sk-container-id-3 div.sk-item {position: relative;z-index: 1;}#sk-container-id-3 div.sk-parallel {display: flex;align-items: stretch;justify-content: center;background-color: white;position: relative;}#sk-container-id-3 div.sk-item::before, #sk-container-id-3 div.sk-parallel-item::before {content: \"\";position: absolute;border-left: 1px solid gray;box-sizing: border-box;top: 0;bottom: 0;left: 50%;z-index: -1;}#sk-container-id-3 div.sk-parallel-item {display: flex;flex-direction: column;z-index: 1;position: relative;background-color: white;}#sk-container-id-3 div.sk-parallel-item:first-child::after {align-self: flex-end;width: 50%;}#sk-container-id-3 div.sk-parallel-item:last-child::after {align-self: flex-start;width: 50%;}#sk-container-id-3 div.sk-parallel-item:only-child::after {width: 0;}#sk-container-id-3 div.sk-dashed-wrapped {border: 1px dashed gray;margin: 0 0.4em 0.5em 0.4em;box-sizing: border-box;padding-bottom: 0.4em;background-color: white;}#sk-container-id-3 div.sk-label label {font-family: monospace;font-weight: bold;display: inline-block;line-height: 1.2em;}#sk-container-id-3 div.sk-label-container {text-align: center;}#sk-container-id-3 div.sk-container {/* jupyter's `normalize.less` sets `[hidden] { display: none; }` but bootstrap.min.css set `[hidden] { display: none !important; }` so we also need the `!important` here to be able to override the default hidden behavior on the sphinx rendered scikit-learn.org. See: https://github.com/scikit-learn/scikit-learn/issues/21755 */display: inline-block !important;position: relative;}#sk-container-id-3 div.sk-text-repr-fallback {display: none;}</style><div id=\"sk-container-id-3\" class=\"sk-top-container\"><div class=\"sk-text-repr-fallback\"><pre>LogisticRegression()</pre><b>In a Jupyter environment, please rerun this cell to show the HTML representation or trust the notebook. <br />On GitHub, the HTML representation is unable to render, please try loading this page with nbviewer.org.</b></div><div class=\"sk-container\" hidden><div class=\"sk-item\"><div class=\"sk-estimator sk-toggleable\"><input class=\"sk-toggleable__control sk-hidden--visually\" id=\"sk-estimator-id-3\" type=\"checkbox\" checked><label for=\"sk-estimator-id-3\" class=\"sk-toggleable__label sk-toggleable__label-arrow\">LogisticRegression</label><div class=\"sk-toggleable__content\"><pre>LogisticRegression()</pre></div></div></div></div></div>"
      ],
      "text/plain": [
       "LogisticRegression()"
      ]
     },
     "execution_count": 230,
     "metadata": {},
     "output_type": "execute_result"
    }
   ],
   "source": [
    "# Estimamos el modelo\n",
    "logit = LogisticRegression()\n",
    "logit.fit(X_train,y_train)"
   ]
  },
  {
   "cell_type": "code",
   "execution_count": 231,
   "id": "5b72cc36-b88c-4d12-8d96-7fd7387c1115",
   "metadata": {
    "tags": []
   },
   "outputs": [
    {
     "name": "stdout",
     "output_type": "stream",
     "text": [
      "[-5.08977719e-07]\n"
     ]
    },
    {
     "data": {
      "text/plain": [
       "array([[-1.23729847e-03, -4.13266266e-04, -1.51886997e-05,\n",
       "         1.17851279e-04, -6.12339744e-05,  4.80868679e-04,\n",
       "        -9.42934426e-05, -1.44404542e-04, -1.65519917e-04,\n",
       "        -1.69902734e-05, -1.79076984e-06,  8.88977072e-05,\n",
       "        -1.79054634e-04, -1.80251782e-06,  2.78658889e-04,\n",
       "        -1.73360245e-05, -1.69902734e-05,  7.95597468e-05,\n",
       "         4.42140225e-05]])"
      ]
     },
     "execution_count": 231,
     "metadata": {},
     "output_type": "execute_result"
    }
   ],
   "source": [
    "# Obtenemos el intercepto y los coeficientes asociados a las variables\n",
    "\n",
    "print(logit.intercept_)\n",
    "logit.coef_"
   ]
  },
  {
   "cell_type": "markdown",
   "id": "ca69ae96-3a6c-4a5d-bf47-63029ebe1bb3",
   "metadata": {},
   "source": [
    "El modelo estimado es: logit = -5.08977719e-07 + -1.23729847e-03year + -4.13266266e-04X1 + -1.51886997e-05X2 +  1.17851279e-04X3 + -6.12339744e-05X4 + 4.80868679e-04X5 + -9.42934426e-05X6 + -1.44404542e-04X7 + -1.65519917e-04X8 + -1.69902734e-05X9 + -1.79076984e-06X10 + 8.88977072e-05X11 + -1.79054634e-04X12 + -1.80251782e-06X13 + 2.78658889e-04X14 + -1.73360245e-05X15 + -1.69902734e-05X16 + 7.95597468e-05X17 + 4.42140225e-05X18"
   ]
  },
  {
   "cell_type": "markdown",
   "id": "6f4ac3b5-6f75-4306-9973-58f51d2c2d26",
   "metadata": {},
   "source": [
    "#### Evaluación del Modelo de Regresión Logistica"
   ]
  },
  {
   "cell_type": "code",
   "execution_count": 234,
   "id": "435599a4-e0f9-473d-86e5-5b34e1e5a451",
   "metadata": {
    "tags": []
   },
   "outputs": [
    {
     "data": {
      "text/plain": [
       "array([[0.92214895, 0.07785105],\n",
       "       [0.91621233, 0.08378767],\n",
       "       [0.92714502, 0.07285498],\n",
       "       ...,\n",
       "       [0.92236625, 0.07763375],\n",
       "       [0.92400248, 0.07599752],\n",
       "       [0.92600438, 0.07399562]])"
      ]
     },
     "execution_count": 234,
     "metadata": {},
     "output_type": "execute_result"
    }
   ],
   "source": [
    "predicciones_prob = logit.predict_proba(X_test)\n",
    "predicciones_prob"
   ]
  },
  {
   "cell_type": "markdown",
   "id": "e2c3402b-6c92-4a15-994f-d9fe2fe16ae4",
   "metadata": {},
   "source": [
    "Entendiendo las predicciones, en el primer caso, tiene una probabilidad del 92% de no entrar en bancarrota y un 8% de entrar en bancarrota según nuestro modelo."
   ]
  },
  {
   "cell_type": "code",
   "execution_count": 236,
   "id": "aaccffb6-cfe7-4bf5-a07d-58f18eeda874",
   "metadata": {
    "tags": []
   },
   "outputs": [
    {
     "data": {
      "text/plain": [
       "array([0, 0, 0, ..., 0, 0, 0])"
      ]
     },
     "execution_count": 236,
     "metadata": {},
     "output_type": "execute_result"
    }
   ],
   "source": [
    "predicciones = logit.predict(X_test)\n",
    "predicciones"
   ]
  },
  {
   "cell_type": "code",
   "execution_count": null,
   "id": "680e41af-0d16-4113-b236-ecfdd59087a7",
   "metadata": {},
   "outputs": [],
   "source": []
  },
  {
   "cell_type": "markdown",
   "id": "39678cf5-8a7d-434d-aabd-4f2966b41e1b",
   "metadata": {},
   "source": [
    "Por último, calculamos la matriz de confusión, el accuracy, la precisión, el recall, el coeficiente <b>AUC</b> y el <b>gini</b> para evaluar el modelo."
   ]
  },
  {
   "cell_type": "code",
   "execution_count": 238,
   "id": "0c30dcb2-a272-4d15-a7eb-5246806e8873",
   "metadata": {
    "tags": []
   },
   "outputs": [
    {
     "data": {
      "text/plain": [
       "array([[22050,    12],\n",
       "       [ 1531,    12]], dtype=int64)"
      ]
     },
     "execution_count": 238,
     "metadata": {},
     "output_type": "execute_result"
    }
   ],
   "source": [
    "cm"
   ]
  },
  {
   "cell_type": "code",
   "execution_count": 239,
   "id": "5296800f-7b4e-4c2a-88bf-13402f6b982a",
   "metadata": {
    "tags": []
   },
   "outputs": [
    {
     "data": {
      "image/png": "[encoded data removed]",
      "text/plain": [
       "<Figure size 640x480 with 2 Axes>"
      ]
     },
     "metadata": {},
     "output_type": "display_data"
    }
   ],
   "source": [
    "cm = confusion_matrix(y_test,predicciones)\n",
    "sns.heatmap(cm,annot=True,fmt=\"d\",cmap=\"coolwarm\")\n",
    "plt.show()"
   ]
  },
  {
   "cell_type": "markdown",
   "id": "fa391478-cdbb-4f8a-ac9d-935daed3830c",
   "metadata": {},
   "source": [
    "Podemos ver como hay 24 resultados erroneos. 12 falsos negativos y 12 verdaderos negativos. Por lo tanto, no es un mal modelo según la matriz de confusión."
   ]
  },
  {
   "cell_type": "code",
   "execution_count": 241,
   "id": "f1f74097-8c96-441d-b6b6-477db0ae58bb",
   "metadata": {
    "tags": []
   },
   "outputs": [
    {
     "name": "stdout",
     "output_type": "stream",
     "text": [
      "              precision    recall  f1-score   support\n",
      "\n",
      "           0       0.94      1.00      0.97     22062\n",
      "           1       0.50      0.01      0.02      1543\n",
      "\n",
      "    accuracy                           0.93     23605\n",
      "   macro avg       0.72      0.50      0.49     23605\n",
      "weighted avg       0.91      0.93      0.90     23605\n",
      "\n"
     ]
    }
   ],
   "source": [
    "print(classification_report(y_test,predicciones))"
   ]
  },
  {
   "cell_type": "markdown",
   "id": "451b5091-8de7-4114-96c6-e613880c0c78",
   "metadata": {},
   "source": [
    "Si le echamos un ojo al report clasificatorio, nos damos cuenta que es un modelo sesgado hacia la clase dominante 0. Por lo tanto, deberiamos volver a estimar el modelo reduciendo el tamaño de la clase mayoritaria. "
   ]
  },
  {
   "cell_type": "code",
   "execution_count": 243,
   "id": "43a3dfcd-fb66-4222-9144-9c02e4ad3400",
   "metadata": {
    "tags": []
   },
   "outputs": [],
   "source": [
    "# Curva ROC\n",
    "\n",
    "fpr,tpr,umbrales=roc_curve(y_test,predicciones_prob[:,1],pos_label=1)"
   ]
  },
  {
   "cell_type": "code",
   "execution_count": 244,
   "id": "a787a65c-bc05-4829-a62d-09c2a41abbc0",
   "metadata": {
    "tags": []
   },
   "outputs": [
    {
     "data": {
      "image/png": "[encoded data removed]",
      "text/plain": [
       "<Figure size 640x480 with 1 Axes>"
      ]
     },
     "metadata": {},
     "output_type": "display_data"
    }
   ],
   "source": [
    "plt.figure()\n",
    "lw = 2\n",
    "plt.plot(fpr, tpr,\n",
    "         lw=lw, label='Curva ROC')\n",
    "plt.plot([0, 1], [0, 1], color='grey', lw=1, linestyle='--')\n",
    "plt.xlim([0.0, 1.0])\n",
    "plt.ylim([0.0, 1.05])\n",
    "plt.xlabel('False Positive Rate')\n",
    "plt.ylabel('True Positive Rate')\n",
    "plt.title('Curva ROC')\n",
    "plt.legend(loc=\"lower right\")\n",
    "plt.show()"
   ]
  },
  {
   "cell_type": "markdown",
   "id": "b7fa8902-2b82-4255-b6c7-c6d6d118088b",
   "metadata": {},
   "source": [
    "Interpretando la curva ROC podemos deducir que el modelo no es malo, lo que podría ser mejorable. En la misma línea que con el report clasificatorio. Ahora calculamos el AUC"
   ]
  },
  {
   "cell_type": "code",
   "execution_count": 246,
   "id": "578aa134-ad81-46eb-b896-38c547ce1765",
   "metadata": {
    "tags": []
   },
   "outputs": [
    {
     "data": {
      "text/plain": [
       "0.6849930905261805"
      ]
     },
     "execution_count": 246,
     "metadata": {},
     "output_type": "execute_result"
    }
   ],
   "source": [
    "auc=auc(fpr, tpr)\n",
    "auc"
   ]
  },
  {
   "cell_type": "markdown",
   "id": "82e2a7b6-f8fd-4e23-bf34-9bf5e13b03e1",
   "metadata": {
    "tags": []
   },
   "source": [
    "Tiene una capacidad aceptable para discriminar entre las clases positivas y negativas. Para mejorar la capacidad predictiva podemos usar un Random Forest, vamos a intentarlo."
   ]
  },
  {
   "cell_type": "markdown",
   "id": "32b5e27d-1649-4d38-acb0-0a8829a30537",
   "metadata": {},
   "source": [
    "#### Estimación del Random Forest"
   ]
  },
  {
   "cell_type": "code",
   "execution_count": 279,
   "id": "05c2c31e-6188-4b8e-8ddc-7f58366444ad",
   "metadata": {
    "tags": []
   },
   "outputs": [],
   "source": [
    "# Importar paquetes\n",
    "import pandas as pd\n",
    "import numpy as np\n",
    "import matplotlib.pyplot as plt\n",
    "%matplotlib inline\n",
    "import seaborn as sns\n",
    "from sklearn.model_selection import train_test_split\n",
    "from sklearn.ensemble import RandomForestClassifier\n",
    "from sklearn import tree\n",
    "from sklearn.metrics import confusion_matrix\n",
    "from sklearn.metrics import classification_report\n",
    "from sklearn.metrics import roc_curve,auc"
   ]
  },
  {
   "cell_type": "code",
   "execution_count": 286,
   "id": "b4e97b9c-b8b8-4016-b71f-80b93887dc3e",
   "metadata": {
    "tags": []
   },
   "outputs": [],
   "source": [
    "X = default.drop(\"failed\",axis=1)\n",
    "y = default[\"failed\"]\n",
    "X_train, X_test, y_train, y_test = train_test_split(X,y,test_size=0.3,random_state=123456789)"
   ]
  },
  {
   "cell_type": "code",
   "execution_count": 347,
   "id": "b968fa1c-f711-4a3c-85a3-8e4ac1b8da4e",
   "metadata": {
    "tags": []
   },
   "outputs": [],
   "source": [
    "rf_model = RandomForestClassifier(n_estimators=100, random_state=123456789 ,max_depth=15, max_features=\"sqrt\",class_weight='balanced')"
   ]
  },
  {
   "cell_type": "code",
   "execution_count": 349,
   "id": "462684c2-79d8-44ce-8e4d-88789f7b9297",
   "metadata": {
    "tags": []
   },
   "outputs": [
    {
     "data": {
      "text/html": [
       "<style>#sk-container-id-7 {color: black;background-color: white;}#sk-container-id-7 pre{padding: 0;}#sk-container-id-7 div.sk-toggleable {background-color: white;}#sk-container-id-7 label.sk-toggleable__label {cursor: pointer;display: block;width: 100%;margin-bottom: 0;padding: 0.3em;box-sizing: border-box;text-align: center;}#sk-container-id-7 label.sk-toggleable__label-arrow:before {content: \"▸\";float: left;margin-right: 0.25em;color: #696969;}#sk-container-id-7 label.sk-toggleable__label-arrow:hover:before {color: black;}#sk-container-id-7 div.sk-estimator:hover label.sk-toggleable__label-arrow:before {color: black;}#sk-container-id-7 div.sk-toggleable__content {max-height: 0;max-width: 0;overflow: hidden;text-align: left;background-color: #f0f8ff;}#sk-container-id-7 div.sk-toggleable__content pre {margin: 0.2em;color: black;border-radius: 0.25em;background-color: #f0f8ff;}#sk-container-id-7 input.sk-toggleable__control:checked~div.sk-toggleable__content {max-height: 200px;max-width: 100%;overflow: auto;}#sk-container-id-7 input.sk-toggleable__control:checked~label.sk-toggleable__label-arrow:before {content: \"▾\";}#sk-container-id-7 div.sk-estimator input.sk-toggleable__control:checked~label.sk-toggleable__label {background-color: #d4ebff;}#sk-container-id-7 div.sk-label input.sk-toggleable__control:checked~label.sk-toggleable__label {background-color: #d4ebff;}#sk-container-id-7 input.sk-hidden--visually {border: 0;clip: rect(1px 1px 1px 1px);clip: rect(1px, 1px, 1px, 1px);height: 1px;margin: -1px;overflow: hidden;padding: 0;position: absolute;width: 1px;}#sk-container-id-7 div.sk-estimator {font-family: monospace;background-color: #f0f8ff;border: 1px dotted black;border-radius: 0.25em;box-sizing: border-box;margin-bottom: 0.5em;}#sk-container-id-7 div.sk-estimator:hover {background-color: #d4ebff;}#sk-container-id-7 div.sk-parallel-item::after {content: \"\";width: 100%;border-bottom: 1px solid gray;flex-grow: 1;}#sk-container-id-7 div.sk-label:hover label.sk-toggleable__label {background-color: #d4ebff;}#sk-container-id-7 div.sk-serial::before {content: \"\";position: absolute;border-left: 1px solid gray;box-sizing: border-box;top: 0;bottom: 0;left: 50%;z-index: 0;}#sk-container-id-7 div.sk-serial {display: flex;flex-direction: column;align-items: center;background-color: white;padding-right: 0.2em;padding-left: 0.2em;position: relative;}#sk-container-id-7 div.sk-item {position: relative;z-index: 1;}#sk-container-id-7 div.sk-parallel {display: flex;align-items: stretch;justify-content: center;background-color: white;position: relative;}#sk-container-id-7 div.sk-item::before, #sk-container-id-7 div.sk-parallel-item::before {content: \"\";position: absolute;border-left: 1px solid gray;box-sizing: border-box;top: 0;bottom: 0;left: 50%;z-index: -1;}#sk-container-id-7 div.sk-parallel-item {display: flex;flex-direction: column;z-index: 1;position: relative;background-color: white;}#sk-container-id-7 div.sk-parallel-item:first-child::after {align-self: flex-end;width: 50%;}#sk-container-id-7 div.sk-parallel-item:last-child::after {align-self: flex-start;width: 50%;}#sk-container-id-7 div.sk-parallel-item:only-child::after {width: 0;}#sk-container-id-7 div.sk-dashed-wrapped {border: 1px dashed gray;margin: 0 0.4em 0.5em 0.4em;box-sizing: border-box;padding-bottom: 0.4em;background-color: white;}#sk-container-id-7 div.sk-label label {font-family: monospace;font-weight: bold;display: inline-block;line-height: 1.2em;}#sk-container-id-7 div.sk-label-container {text-align: center;}#sk-container-id-7 div.sk-container {/* jupyter's `normalize.less` sets `[hidden] { display: none; }` but bootstrap.min.css set `[hidden] { display: none !important; }` so we also need the `!important` here to be able to override the default hidden behavior on the sphinx rendered scikit-learn.org. See: https://github.com/scikit-learn/scikit-learn/issues/21755 */display: inline-block !important;position: relative;}#sk-container-id-7 div.sk-text-repr-fallback {display: none;}</style><div id=\"sk-container-id-7\" class=\"sk-top-container\"><div class=\"sk-text-repr-fallback\"><pre>RandomForestClassifier(class_weight=&#x27;balanced&#x27;, max_depth=15,\n",
       "                       random_state=123456789)</pre><b>In a Jupyter environment, please rerun this cell to show the HTML representation or trust the notebook. <br />On GitHub, the HTML representation is unable to render, please try loading this page with nbviewer.org.</b></div><div class=\"sk-container\" hidden><div class=\"sk-item\"><div class=\"sk-estimator sk-toggleable\"><input class=\"sk-toggleable__control sk-hidden--visually\" id=\"sk-estimator-id-7\" type=\"checkbox\" checked><label for=\"sk-estimator-id-7\" class=\"sk-toggleable__label sk-toggleable__label-arrow\">RandomForestClassifier</label><div class=\"sk-toggleable__content\"><pre>RandomForestClassifier(class_weight=&#x27;balanced&#x27;, max_depth=15,\n",
       "                       random_state=123456789)</pre></div></div></div></div></div>"
      ],
      "text/plain": [
       "RandomForestClassifier(class_weight='balanced', max_depth=15,\n",
       "                       random_state=123456789)"
      ]
     },
     "execution_count": 349,
     "metadata": {},
     "output_type": "execute_result"
    }
   ],
   "source": [
    "rf_model.fit(X_train,y_train)"
   ]
  },
  {
   "cell_type": "code",
   "execution_count": 351,
   "id": "ece49062-9231-4024-ad37-5a3ee63dc8d2",
   "metadata": {
    "tags": []
   },
   "outputs": [
    {
     "data": {
      "text/plain": [
       "array([0, 0, 0, ..., 0, 0, 0])"
      ]
     },
     "execution_count": 351,
     "metadata": {},
     "output_type": "execute_result"
    }
   ],
   "source": [
    "# Clasificación con el Random Forest\n",
    "\n",
    "rf_predicciones =rf_model.predict(X_test)\n",
    "rf_predicciones"
   ]
  },
  {
   "cell_type": "code",
   "execution_count": 353,
   "id": "430f8fec-d621-4555-8c1b-16afd47b5dd8",
   "metadata": {
    "tags": []
   },
   "outputs": [
    {
     "data": {
      "text/plain": [
       "array([[0.55224829, 0.44775171],\n",
       "       [0.65281072, 0.34718928],\n",
       "       [0.99283953, 0.00716047],\n",
       "       ...,\n",
       "       [0.7275664 , 0.2724336 ],\n",
       "       [0.98641017, 0.01358983],\n",
       "       [0.88866481, 0.11133519]])"
      ]
     },
     "execution_count": 353,
     "metadata": {},
     "output_type": "execute_result"
    }
   ],
   "source": [
    "rf_predicciones_prob =rf_model.predict_proba(X_test)\n",
    "rf_predicciones_prob"
   ]
  },
  {
   "cell_type": "code",
   "execution_count": 355,
   "id": "3fdc9705-ce89-4345-b173-952a1cf6edc4",
   "metadata": {
    "tags": []
   },
   "outputs": [
    {
     "data": {
      "text/plain": [
       "array([0.0882782 , 0.05047779, 0.04359   , 0.05839398, 0.04136817,\n",
       "       0.04555938, 0.07272245, 0.05197017, 0.08176697, 0.03555836,\n",
       "       0.04615015, 0.05246727, 0.04750238, 0.04694126, 0.04307251,\n",
       "       0.06011917, 0.036045  , 0.05690667, 0.0411101 ])"
      ]
     },
     "execution_count": 355,
     "metadata": {},
     "output_type": "execute_result"
    }
   ],
   "source": [
    "# Vamos a evaluar cual de las variables tienen mas importancia en la predicción del modelo\n",
    "rf_model.feature_importances_"
   ]
  },
  {
   "cell_type": "markdown",
   "id": "169f3f8d-7bb4-4450-a454-6a3be5ee3e81",
   "metadata": {},
   "source": [
    "#### Evaluación del Random Forest"
   ]
  },
  {
   "cell_type": "markdown",
   "id": "bd721168-88fb-4925-a3ba-ea131f43c0a1",
   "metadata": {},
   "source": [
    "Al igual que en la regresión logistica, vamos a aplicar las mismas métricas de evaluación."
   ]
  },
  {
   "cell_type": "code",
   "execution_count": 369,
   "id": "67917fec-c3b8-4ac0-9e92-81b782ef67d4",
   "metadata": {
    "tags": []
   },
   "outputs": [
    {
     "data": {
      "text/plain": [
       "array([[21304,   758],\n",
       "       [ 1120,   423]], dtype=int64)"
      ]
     },
     "execution_count": 369,
     "metadata": {},
     "output_type": "execute_result"
    }
   ],
   "source": [
    "cm = confusion_matrix(y_test,rf_predicciones)\n",
    "cm"
   ]
  },
  {
   "cell_type": "code",
   "execution_count": 371,
   "id": "2195cd85-23ce-4af8-85dc-656a23bc62f1",
   "metadata": {
    "tags": []
   },
   "outputs": [
    {
     "data": {
      "text/plain": [
       "<Axes: >"
      ]
     },
     "execution_count": 371,
     "metadata": {},
     "output_type": "execute_result"
    },
    {
     "data": {
      "image/png": "[encoded data removed]",
      "text/plain": [
       "<Figure size 640x480 with 2 Axes>"
      ]
     },
     "metadata": {},
     "output_type": "display_data"
    }
   ],
   "source": [
    "sns.heatmap(cm,annot=True, fmt=\"d\")"
   ]
  },
  {
   "cell_type": "code",
   "execution_count": 373,
   "id": "bbc542e1-4021-499b-9d4d-0a425fce2624",
   "metadata": {
    "tags": []
   },
   "outputs": [
    {
     "name": "stdout",
     "output_type": "stream",
     "text": [
      "              precision    recall  f1-score   support\n",
      "\n",
      "           0       0.95      0.97      0.96     22062\n",
      "           1       0.36      0.27      0.31      1543\n",
      "\n",
      "    accuracy                           0.92     23605\n",
      "   macro avg       0.65      0.62      0.63     23605\n",
      "weighted avg       0.91      0.92      0.92     23605\n",
      "\n"
     ]
    }
   ],
   "source": [
    "print(classification_report(y_test,rf_predicciones))"
   ]
  },
  {
   "cell_type": "code",
   "execution_count": 376,
   "id": "54f2f0ee-e885-4c0d-9040-1e26e4f91890",
   "metadata": {
    "tags": []
   },
   "outputs": [],
   "source": [
    "fpr,tpr,umbrales=roc_curve(y_test,rf_predicciones_prob[:,1],pos_label=1)"
   ]
  },
  {
   "cell_type": "code",
   "execution_count": 378,
   "id": "918692cb-bcbb-4b3a-a9e7-527f859a3135",
   "metadata": {
    "tags": []
   },
   "outputs": [
    {
     "data": {
      "image/png": "[encoded data removed]",
      "text/plain": [
       "<Figure size 640x480 with 1 Axes>"
      ]
     },
     "metadata": {},
     "output_type": "display_data"
    }
   ],
   "source": [
    "plt.figure()\n",
    "lw = 2\n",
    "plt.plot(fpr, tpr,\n",
    "         lw=lw, label='Curva ROC')\n",
    "plt.plot([0, 1], [0, 1], color='grey', lw=1, linestyle='--')\n",
    "plt.xlim([0.0, 1.0])\n",
    "plt.ylim([0.0, 1.05])\n",
    "plt.xlabel('False Positive Rate')\n",
    "plt.ylabel('True Positive Rate')\n",
    "plt.title('Curva ROC')\n",
    "plt.legend(loc=\"lower right\")\n",
    "plt.show()"
   ]
  },
  {
   "cell_type": "code",
   "execution_count": 380,
   "id": "7ad12e4c-64de-4250-b532-1205fdd2ec6f",
   "metadata": {
    "tags": []
   },
   "outputs": [
    {
     "data": {
      "text/plain": [
       "0.842773529356642"
      ]
     },
     "execution_count": 380,
     "metadata": {},
     "output_type": "execute_result"
    }
   ],
   "source": [
    "auc=auc(fpr, tpr)\n",
    "auc"
   ]
  },
  {
   "cell_type": "markdown",
   "id": "199b818f-9b2d-410b-a763-94a8dd39e671",
   "metadata": {},
   "source": [
    "### Conclusiones"
   ]
  },
  {
   "cell_type": "markdown",
   "id": "c8cbb4e1-dd60-4616-a7df-54f4bc375252",
   "metadata": {},
   "source": [
    "Según las distintas medidas de evaluación, el Random Forest es mas adecuado que la Regresión Logistica, pues tiene una curva ROC mas buena y un AUC mayor que la regresión logistica. Ahora bien, deberiamos aplicar otro tipo de modelos, pues ambos siguen siendo modelos sesgados hacia la clase dominante, como se puede observar en ambas matrices de confusión."
   ]
  }
 ],
 "metadata": {
  "kernelspec": {
   "display_name": "Python 3 (ipykernel)",
   "language": "python",
   "name": "python3"
  },
  "language_info": {
   "codemirror_mode": {
    "name": "ipython",
    "version": 3
   },
   "file_extension": ".py",
   "mimetype": "text/x-python",
   "name": "python",
   "nbconvert_exporter": "python",
   "pygments_lexer": "ipython3",
   "version": "3.11.7"
  }
 },
 "nbformat": 4,
 "nbformat_minor": 5
}
