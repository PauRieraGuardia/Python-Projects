{
 "cells": [
  {
   "cell_type": "markdown",
   "id": "838104d5-ceee-400e-b9ea-37baff8789ed",
   "metadata": {},
   "source": [
    "## Linear Regression Model: Car Price Prediction \n",
    "\n",
    "Vamos a predecir el precio de un coche de segunda mano con el modelo de regresión lineal donde la variable explicada (el precio) viene explicada por las variables explicativas (Car Brand, Year, Sold Price, Present Price, KMS Driven, Fuel Type, Seller Type, Transmission Type, Owners). Es un problema de regresión porque estamos prediciendo un valor particular."
   ]
  },
  {
   "cell_type": "code",
   "execution_count": 376,
   "id": "2cd91fba-3f4d-4a77-a91d-0fb4cfd524c5",
   "metadata": {
    "tags": []
   },
   "outputs": [],
   "source": [
    "import pandas as pd\n",
    "import numpy as np\n",
    "import matplotlib.pyplot as plt\n",
    "import seaborn as sns\n",
    "from sklearn.model_selection import train_test_split\n",
    "from sklearn.linear_model import LinearRegression\n",
    "from sklearn import metrics"
   ]
  },
  {
   "cell_type": "markdown",
   "id": "33244160-5a46-4350-93f5-0a561f25bd10",
   "metadata": {},
   "source": [
    "#### Carga de los datos"
   ]
  },
  {
   "cell_type": "code",
   "execution_count": 378,
   "id": "7e434a25-11a5-4eb1-b09f-7cac98bf74ab",
   "metadata": {
    "tags": []
   },
   "outputs": [
    {
     "data": {
      "text/html": [
       "<div>\n",
       "<style scoped>\n",
       "    .dataframe tbody tr th:only-of-type {\n",
       "        vertical-align: middle;\n",
       "    }\n",
       "\n",
       "    .dataframe tbody tr th {\n",
       "        vertical-align: top;\n",
       "    }\n",
       "\n",
       "    .dataframe thead th {\n",
       "        text-align: right;\n",
       "    }\n",
       "</style>\n",
       "<table border=\"1\" class=\"dataframe\">\n",
       "  <thead>\n",
       "    <tr style=\"text-align: right;\">\n",
       "      <th></th>\n",
       "      <th>Car_Name</th>\n",
       "      <th>Year</th>\n",
       "      <th>Selling_Price</th>\n",
       "      <th>Present_Price</th>\n",
       "      <th>Kms_Driven</th>\n",
       "      <th>Fuel_Type</th>\n",
       "      <th>Seller_Type</th>\n",
       "      <th>Transmission</th>\n",
       "      <th>Owner</th>\n",
       "    </tr>\n",
       "  </thead>\n",
       "  <tbody>\n",
       "    <tr>\n",
       "      <th>0</th>\n",
       "      <td>ritz</td>\n",
       "      <td>2014</td>\n",
       "      <td>3.35</td>\n",
       "      <td>5.59</td>\n",
       "      <td>27000</td>\n",
       "      <td>Petrol</td>\n",
       "      <td>Dealer</td>\n",
       "      <td>Manual</td>\n",
       "      <td>0</td>\n",
       "    </tr>\n",
       "    <tr>\n",
       "      <th>1</th>\n",
       "      <td>sx4</td>\n",
       "      <td>2013</td>\n",
       "      <td>4.75</td>\n",
       "      <td>9.54</td>\n",
       "      <td>43000</td>\n",
       "      <td>Diesel</td>\n",
       "      <td>Dealer</td>\n",
       "      <td>Manual</td>\n",
       "      <td>0</td>\n",
       "    </tr>\n",
       "    <tr>\n",
       "      <th>2</th>\n",
       "      <td>ciaz</td>\n",
       "      <td>2017</td>\n",
       "      <td>7.25</td>\n",
       "      <td>9.85</td>\n",
       "      <td>6900</td>\n",
       "      <td>Petrol</td>\n",
       "      <td>Dealer</td>\n",
       "      <td>Manual</td>\n",
       "      <td>0</td>\n",
       "    </tr>\n",
       "    <tr>\n",
       "      <th>3</th>\n",
       "      <td>wagon r</td>\n",
       "      <td>2011</td>\n",
       "      <td>2.85</td>\n",
       "      <td>4.15</td>\n",
       "      <td>5200</td>\n",
       "      <td>Petrol</td>\n",
       "      <td>Dealer</td>\n",
       "      <td>Manual</td>\n",
       "      <td>0</td>\n",
       "    </tr>\n",
       "    <tr>\n",
       "      <th>4</th>\n",
       "      <td>swift</td>\n",
       "      <td>2014</td>\n",
       "      <td>4.60</td>\n",
       "      <td>6.87</td>\n",
       "      <td>42450</td>\n",
       "      <td>Diesel</td>\n",
       "      <td>Dealer</td>\n",
       "      <td>Manual</td>\n",
       "      <td>0</td>\n",
       "    </tr>\n",
       "  </tbody>\n",
       "</table>\n",
       "</div>"
      ],
      "text/plain": [
       "  Car_Name  Year  Selling_Price  Present_Price  Kms_Driven Fuel_Type  \\\n",
       "0     ritz  2014           3.35           5.59       27000    Petrol   \n",
       "1      sx4  2013           4.75           9.54       43000    Diesel   \n",
       "2     ciaz  2017           7.25           9.85        6900    Petrol   \n",
       "3  wagon r  2011           2.85           4.15        5200    Petrol   \n",
       "4    swift  2014           4.60           6.87       42450    Diesel   \n",
       "\n",
       "  Seller_Type Transmission  Owner  \n",
       "0      Dealer       Manual      0  \n",
       "1      Dealer       Manual      0  \n",
       "2      Dealer       Manual      0  \n",
       "3      Dealer       Manual      0  \n",
       "4      Dealer       Manual      0  "
      ]
     },
     "execution_count": 378,
     "metadata": {},
     "output_type": "execute_result"
    }
   ],
   "source": [
    "datos = pd.read_csv(\"C:/Users/pauri/OneDrive/Escritorio/Python projects/Car Price Prediction Linear Regression Model/car data.csv\")\n",
    "datos.head()"
   ]
  },
  {
   "cell_type": "markdown",
   "id": "45abbe59-747f-41d3-a679-17f6b15ba89b",
   "metadata": {},
   "source": [
    "#### Analisis inicial de los datos"
   ]
  },
  {
   "cell_type": "code",
   "execution_count": 380,
   "id": "dc33f3fc-7063-4286-9a0d-8937240ff49a",
   "metadata": {
    "tags": []
   },
   "outputs": [
    {
     "data": {
      "text/plain": [
       "(301, 9)"
      ]
     },
     "execution_count": 380,
     "metadata": {},
     "output_type": "execute_result"
    }
   ],
   "source": [
    "# Vamos a ver el número de columnas y filas\n",
    "datos.shape"
   ]
  },
  {
   "cell_type": "markdown",
   "id": "fdc38e7c-208f-4364-9437-27de70f73d27",
   "metadata": {},
   "source": [
    "Tenemos 301 coches y 9 variables de cada coche"
   ]
  },
  {
   "cell_type": "code",
   "execution_count": 382,
   "id": "7082b08a-2b6e-4e4c-a29f-58f6ff76eba7",
   "metadata": {
    "tags": []
   },
   "outputs": [
    {
     "name": "stdout",
     "output_type": "stream",
     "text": [
      "<class 'pandas.core.frame.DataFrame'>\n",
      "RangeIndex: 301 entries, 0 to 300\n",
      "Data columns (total 9 columns):\n",
      " #   Column         Non-Null Count  Dtype  \n",
      "---  ------         --------------  -----  \n",
      " 0   Car_Name       301 non-null    object \n",
      " 1   Year           301 non-null    int64  \n",
      " 2   Selling_Price  301 non-null    float64\n",
      " 3   Present_Price  301 non-null    float64\n",
      " 4   Kms_Driven     301 non-null    int64  \n",
      " 5   Fuel_Type      301 non-null    object \n",
      " 6   Seller_Type    301 non-null    object \n",
      " 7   Transmission   301 non-null    object \n",
      " 8   Owner          301 non-null    int64  \n",
      "dtypes: float64(2), int64(3), object(4)\n",
      "memory usage: 21.3+ KB\n"
     ]
    }
   ],
   "source": [
    "# Vamos a obtener información del data set\n",
    "datos.info()"
   ]
  },
  {
   "cell_type": "markdown",
   "id": "ede85e30-e37f-4be2-9779-0db526b49bfc",
   "metadata": {},
   "source": [
    "Vemos el tipo de dato de cada una de las variables y que no se osbervan valores NA."
   ]
  },
  {
   "cell_type": "code",
   "execution_count": 384,
   "id": "905db4f8-a90c-4a9e-a9f2-d2bf44a932f4",
   "metadata": {
    "tags": []
   },
   "outputs": [
    {
     "data": {
      "text/html": [
       "<div>\n",
       "<style scoped>\n",
       "    .dataframe tbody tr th:only-of-type {\n",
       "        vertical-align: middle;\n",
       "    }\n",
       "\n",
       "    .dataframe tbody tr th {\n",
       "        vertical-align: top;\n",
       "    }\n",
       "\n",
       "    .dataframe thead th {\n",
       "        text-align: right;\n",
       "    }\n",
       "</style>\n",
       "<table border=\"1\" class=\"dataframe\">\n",
       "  <thead>\n",
       "    <tr style=\"text-align: right;\">\n",
       "      <th></th>\n",
       "      <th>Year</th>\n",
       "      <th>Selling_Price</th>\n",
       "      <th>Present_Price</th>\n",
       "      <th>Kms_Driven</th>\n",
       "      <th>Owner</th>\n",
       "    </tr>\n",
       "  </thead>\n",
       "  <tbody>\n",
       "    <tr>\n",
       "      <th>count</th>\n",
       "      <td>301.000000</td>\n",
       "      <td>301.000000</td>\n",
       "      <td>301.000000</td>\n",
       "      <td>301.000000</td>\n",
       "      <td>301.000000</td>\n",
       "    </tr>\n",
       "    <tr>\n",
       "      <th>mean</th>\n",
       "      <td>2013.627907</td>\n",
       "      <td>4.661296</td>\n",
       "      <td>7.628472</td>\n",
       "      <td>36947.205980</td>\n",
       "      <td>0.043189</td>\n",
       "    </tr>\n",
       "    <tr>\n",
       "      <th>std</th>\n",
       "      <td>2.891554</td>\n",
       "      <td>5.082812</td>\n",
       "      <td>8.644115</td>\n",
       "      <td>38886.883882</td>\n",
       "      <td>0.247915</td>\n",
       "    </tr>\n",
       "    <tr>\n",
       "      <th>min</th>\n",
       "      <td>2003.000000</td>\n",
       "      <td>0.100000</td>\n",
       "      <td>0.320000</td>\n",
       "      <td>500.000000</td>\n",
       "      <td>0.000000</td>\n",
       "    </tr>\n",
       "    <tr>\n",
       "      <th>25%</th>\n",
       "      <td>2012.000000</td>\n",
       "      <td>0.900000</td>\n",
       "      <td>1.200000</td>\n",
       "      <td>15000.000000</td>\n",
       "      <td>0.000000</td>\n",
       "    </tr>\n",
       "    <tr>\n",
       "      <th>50%</th>\n",
       "      <td>2014.000000</td>\n",
       "      <td>3.600000</td>\n",
       "      <td>6.400000</td>\n",
       "      <td>32000.000000</td>\n",
       "      <td>0.000000</td>\n",
       "    </tr>\n",
       "    <tr>\n",
       "      <th>75%</th>\n",
       "      <td>2016.000000</td>\n",
       "      <td>6.000000</td>\n",
       "      <td>9.900000</td>\n",
       "      <td>48767.000000</td>\n",
       "      <td>0.000000</td>\n",
       "    </tr>\n",
       "    <tr>\n",
       "      <th>max</th>\n",
       "      <td>2018.000000</td>\n",
       "      <td>35.000000</td>\n",
       "      <td>92.600000</td>\n",
       "      <td>500000.000000</td>\n",
       "      <td>3.000000</td>\n",
       "    </tr>\n",
       "  </tbody>\n",
       "</table>\n",
       "</div>"
      ],
      "text/plain": [
       "              Year  Selling_Price  Present_Price     Kms_Driven       Owner\n",
       "count   301.000000     301.000000     301.000000     301.000000  301.000000\n",
       "mean   2013.627907       4.661296       7.628472   36947.205980    0.043189\n",
       "std       2.891554       5.082812       8.644115   38886.883882    0.247915\n",
       "min    2003.000000       0.100000       0.320000     500.000000    0.000000\n",
       "25%    2012.000000       0.900000       1.200000   15000.000000    0.000000\n",
       "50%    2014.000000       3.600000       6.400000   32000.000000    0.000000\n",
       "75%    2016.000000       6.000000       9.900000   48767.000000    0.000000\n",
       "max    2018.000000      35.000000      92.600000  500000.000000    3.000000"
      ]
     },
     "execution_count": 384,
     "metadata": {},
     "output_type": "execute_result"
    }
   ],
   "source": [
    "# Vamos a obtener los datos descriptivos del data set de las variables numéricas\n",
    "datos.describe()"
   ]
  },
  {
   "cell_type": "code",
   "execution_count": 385,
   "id": "05aeaac9-cc2b-4a2d-afa4-0c5852ba78ee",
   "metadata": {
    "tags": []
   },
   "outputs": [
    {
     "name": "stdout",
     "output_type": "stream",
     "text": [
      "Fuel_Type\n",
      "Petrol    239\n",
      "Diesel     60\n",
      "CNG         2\n",
      "Name: count, dtype: int64\n",
      "Seller_Type\n",
      "Dealer        195\n",
      "Individual    106\n",
      "Name: count, dtype: int64\n",
      "Transmission\n",
      "Manual       261\n",
      "Automatic     40\n",
      "Name: count, dtype: int64\n"
     ]
    }
   ],
   "source": [
    "# Vamos a ver la distribución de las variables categoricas\n",
    "print(datos.Fuel_Type.value_counts())\n",
    "print(datos.Seller_Type.value_counts())\n",
    "print(datos.Transmission.value_counts())\n"
   ]
  },
  {
   "cell_type": "markdown",
   "id": "477509e2-163a-405b-8614-c5605188da7e",
   "metadata": {},
   "source": [
    "#### Transformación variables categóricas"
   ]
  },
  {
   "cell_type": "code",
   "execution_count": 387,
   "id": "d1878077-8588-4398-be92-809c5e63c5c3",
   "metadata": {
    "tags": []
   },
   "outputs": [],
   "source": [
    "Fuel_Type = pd.get_dummies(datos[\"Fuel_Type\"]).astype(int)\n",
    "Seller_Type = pd.get_dummies(datos[\"Seller_Type\"]).astype(int)\n",
    "Transmission = pd.get_dummies(datos[\"Transmission\"]).astype(int)"
   ]
  },
  {
   "cell_type": "code",
   "execution_count": 388,
   "id": "49e68f18-fe82-43c6-873e-f655001a9c2e",
   "metadata": {
    "tags": []
   },
   "outputs": [],
   "source": [
    "datos.drop([\"Fuel_Type\",\"Seller_Type\",\"Transmission\"],inplace=True,axis=1)\n",
    "datos = pd.concat([datos,Fuel_Type,Seller_Type,Transmission],axis=1)"
   ]
  },
  {
   "cell_type": "code",
   "execution_count": 389,
   "id": "0417e1d4-5366-43b9-97aa-56313e4e765c",
   "metadata": {
    "tags": []
   },
   "outputs": [],
   "source": [
    "datos.drop([\"Car_Name\"],axis=1,inplace=True)"
   ]
  },
  {
   "cell_type": "code",
   "execution_count": 390,
   "id": "fef42d8c-6a49-466e-ad0d-1109ce27f2ad",
   "metadata": {
    "tags": []
   },
   "outputs": [
    {
     "data": {
      "text/html": [
       "<div>\n",
       "<style scoped>\n",
       "    .dataframe tbody tr th:only-of-type {\n",
       "        vertical-align: middle;\n",
       "    }\n",
       "\n",
       "    .dataframe tbody tr th {\n",
       "        vertical-align: top;\n",
       "    }\n",
       "\n",
       "    .dataframe thead th {\n",
       "        text-align: right;\n",
       "    }\n",
       "</style>\n",
       "<table border=\"1\" class=\"dataframe\">\n",
       "  <thead>\n",
       "    <tr style=\"text-align: right;\">\n",
       "      <th></th>\n",
       "      <th>Year</th>\n",
       "      <th>Selling_Price</th>\n",
       "      <th>Present_Price</th>\n",
       "      <th>Kms_Driven</th>\n",
       "      <th>Owner</th>\n",
       "      <th>CNG</th>\n",
       "      <th>Diesel</th>\n",
       "      <th>Petrol</th>\n",
       "      <th>Dealer</th>\n",
       "      <th>Individual</th>\n",
       "      <th>Automatic</th>\n",
       "      <th>Manual</th>\n",
       "    </tr>\n",
       "  </thead>\n",
       "  <tbody>\n",
       "    <tr>\n",
       "      <th>0</th>\n",
       "      <td>2014</td>\n",
       "      <td>3.35</td>\n",
       "      <td>5.59</td>\n",
       "      <td>27000</td>\n",
       "      <td>0</td>\n",
       "      <td>0</td>\n",
       "      <td>0</td>\n",
       "      <td>1</td>\n",
       "      <td>1</td>\n",
       "      <td>0</td>\n",
       "      <td>0</td>\n",
       "      <td>1</td>\n",
       "    </tr>\n",
       "    <tr>\n",
       "      <th>1</th>\n",
       "      <td>2013</td>\n",
       "      <td>4.75</td>\n",
       "      <td>9.54</td>\n",
       "      <td>43000</td>\n",
       "      <td>0</td>\n",
       "      <td>0</td>\n",
       "      <td>1</td>\n",
       "      <td>0</td>\n",
       "      <td>1</td>\n",
       "      <td>0</td>\n",
       "      <td>0</td>\n",
       "      <td>1</td>\n",
       "    </tr>\n",
       "    <tr>\n",
       "      <th>2</th>\n",
       "      <td>2017</td>\n",
       "      <td>7.25</td>\n",
       "      <td>9.85</td>\n",
       "      <td>6900</td>\n",
       "      <td>0</td>\n",
       "      <td>0</td>\n",
       "      <td>0</td>\n",
       "      <td>1</td>\n",
       "      <td>1</td>\n",
       "      <td>0</td>\n",
       "      <td>0</td>\n",
       "      <td>1</td>\n",
       "    </tr>\n",
       "    <tr>\n",
       "      <th>3</th>\n",
       "      <td>2011</td>\n",
       "      <td>2.85</td>\n",
       "      <td>4.15</td>\n",
       "      <td>5200</td>\n",
       "      <td>0</td>\n",
       "      <td>0</td>\n",
       "      <td>0</td>\n",
       "      <td>1</td>\n",
       "      <td>1</td>\n",
       "      <td>0</td>\n",
       "      <td>0</td>\n",
       "      <td>1</td>\n",
       "    </tr>\n",
       "    <tr>\n",
       "      <th>4</th>\n",
       "      <td>2014</td>\n",
       "      <td>4.60</td>\n",
       "      <td>6.87</td>\n",
       "      <td>42450</td>\n",
       "      <td>0</td>\n",
       "      <td>0</td>\n",
       "      <td>1</td>\n",
       "      <td>0</td>\n",
       "      <td>1</td>\n",
       "      <td>0</td>\n",
       "      <td>0</td>\n",
       "      <td>1</td>\n",
       "    </tr>\n",
       "    <tr>\n",
       "      <th>...</th>\n",
       "      <td>...</td>\n",
       "      <td>...</td>\n",
       "      <td>...</td>\n",
       "      <td>...</td>\n",
       "      <td>...</td>\n",
       "      <td>...</td>\n",
       "      <td>...</td>\n",
       "      <td>...</td>\n",
       "      <td>...</td>\n",
       "      <td>...</td>\n",
       "      <td>...</td>\n",
       "      <td>...</td>\n",
       "    </tr>\n",
       "    <tr>\n",
       "      <th>296</th>\n",
       "      <td>2016</td>\n",
       "      <td>9.50</td>\n",
       "      <td>11.60</td>\n",
       "      <td>33988</td>\n",
       "      <td>0</td>\n",
       "      <td>0</td>\n",
       "      <td>1</td>\n",
       "      <td>0</td>\n",
       "      <td>1</td>\n",
       "      <td>0</td>\n",
       "      <td>0</td>\n",
       "      <td>1</td>\n",
       "    </tr>\n",
       "    <tr>\n",
       "      <th>297</th>\n",
       "      <td>2015</td>\n",
       "      <td>4.00</td>\n",
       "      <td>5.90</td>\n",
       "      <td>60000</td>\n",
       "      <td>0</td>\n",
       "      <td>0</td>\n",
       "      <td>0</td>\n",
       "      <td>1</td>\n",
       "      <td>1</td>\n",
       "      <td>0</td>\n",
       "      <td>0</td>\n",
       "      <td>1</td>\n",
       "    </tr>\n",
       "    <tr>\n",
       "      <th>298</th>\n",
       "      <td>2009</td>\n",
       "      <td>3.35</td>\n",
       "      <td>11.00</td>\n",
       "      <td>87934</td>\n",
       "      <td>0</td>\n",
       "      <td>0</td>\n",
       "      <td>0</td>\n",
       "      <td>1</td>\n",
       "      <td>1</td>\n",
       "      <td>0</td>\n",
       "      <td>0</td>\n",
       "      <td>1</td>\n",
       "    </tr>\n",
       "    <tr>\n",
       "      <th>299</th>\n",
       "      <td>2017</td>\n",
       "      <td>11.50</td>\n",
       "      <td>12.50</td>\n",
       "      <td>9000</td>\n",
       "      <td>0</td>\n",
       "      <td>0</td>\n",
       "      <td>1</td>\n",
       "      <td>0</td>\n",
       "      <td>1</td>\n",
       "      <td>0</td>\n",
       "      <td>0</td>\n",
       "      <td>1</td>\n",
       "    </tr>\n",
       "    <tr>\n",
       "      <th>300</th>\n",
       "      <td>2016</td>\n",
       "      <td>5.30</td>\n",
       "      <td>5.90</td>\n",
       "      <td>5464</td>\n",
       "      <td>0</td>\n",
       "      <td>0</td>\n",
       "      <td>0</td>\n",
       "      <td>1</td>\n",
       "      <td>1</td>\n",
       "      <td>0</td>\n",
       "      <td>0</td>\n",
       "      <td>1</td>\n",
       "    </tr>\n",
       "  </tbody>\n",
       "</table>\n",
       "<p>301 rows × 12 columns</p>\n",
       "</div>"
      ],
      "text/plain": [
       "     Year  Selling_Price  Present_Price  Kms_Driven  Owner  CNG  Diesel  \\\n",
       "0    2014           3.35           5.59       27000      0    0       0   \n",
       "1    2013           4.75           9.54       43000      0    0       1   \n",
       "2    2017           7.25           9.85        6900      0    0       0   \n",
       "3    2011           2.85           4.15        5200      0    0       0   \n",
       "4    2014           4.60           6.87       42450      0    0       1   \n",
       "..    ...            ...            ...         ...    ...  ...     ...   \n",
       "296  2016           9.50          11.60       33988      0    0       1   \n",
       "297  2015           4.00           5.90       60000      0    0       0   \n",
       "298  2009           3.35          11.00       87934      0    0       0   \n",
       "299  2017          11.50          12.50        9000      0    0       1   \n",
       "300  2016           5.30           5.90        5464      0    0       0   \n",
       "\n",
       "     Petrol  Dealer  Individual  Automatic  Manual  \n",
       "0         1       1           0          0       1  \n",
       "1         0       1           0          0       1  \n",
       "2         1       1           0          0       1  \n",
       "3         1       1           0          0       1  \n",
       "4         0       1           0          0       1  \n",
       "..      ...     ...         ...        ...     ...  \n",
       "296       0       1           0          0       1  \n",
       "297       1       1           0          0       1  \n",
       "298       1       1           0          0       1  \n",
       "299       0       1           0          0       1  \n",
       "300       1       1           0          0       1  \n",
       "\n",
       "[301 rows x 12 columns]"
      ]
     },
     "execution_count": 390,
     "metadata": {},
     "output_type": "execute_result"
    }
   ],
   "source": [
    "datos"
   ]
  },
  {
   "cell_type": "markdown",
   "id": "68be7377-47e2-4fcb-b517-38141beb5b65",
   "metadata": {},
   "source": [
    "Ya tenemos el DataFrame limpio y libre de vairables NA y de variables categóricas para poder aplicar el modelo de Regresión Lineal."
   ]
  },
  {
   "cell_type": "markdown",
   "id": "d7b0474f-5ba6-45dc-b2b4-08f5ed9eeb2f",
   "metadata": {},
   "source": [
    "#### Estimación del Modelo"
   ]
  },
  {
   "cell_type": "code",
   "execution_count": 393,
   "id": "56d01a8c-3d4a-40d2-9d55-cbee588788dd",
   "metadata": {
    "tags": []
   },
   "outputs": [],
   "source": [
    "X = datos.drop([\"Selling_Price\"],axis=1)\n",
    "y = datos[\"Selling_Price\"]"
   ]
  },
  {
   "cell_type": "code",
   "execution_count": 394,
   "id": "eb8200f7-c54f-45cf-8976-df45cf7a2939",
   "metadata": {
    "tags": []
   },
   "outputs": [],
   "source": [
    "(X_train, X_test, y_train, y_test) = train_test_split(X , y , test_size=0.2, random_state=1)"
   ]
  },
  {
   "cell_type": "code",
   "execution_count": 395,
   "id": "cbf44265-cee8-48ed-b235-ee161d5ee9be",
   "metadata": {
    "tags": []
   },
   "outputs": [],
   "source": [
    "modelo = LinearRegression()"
   ]
  },
  {
   "cell_type": "code",
   "execution_count": 396,
   "id": "661dcc98-5963-4429-8073-771714b21396",
   "metadata": {
    "tags": []
   },
   "outputs": [
    {
     "data": {
      "text/html": [
       "<style>#sk-container-id-2 {color: black;background-color: white;}#sk-container-id-2 pre{padding: 0;}#sk-container-id-2 div.sk-toggleable {background-color: white;}#sk-container-id-2 label.sk-toggleable__label {cursor: pointer;display: block;width: 100%;margin-bottom: 0;padding: 0.3em;box-sizing: border-box;text-align: center;}#sk-container-id-2 label.sk-toggleable__label-arrow:before {content: \"▸\";float: left;margin-right: 0.25em;color: #696969;}#sk-container-id-2 label.sk-toggleable__label-arrow:hover:before {color: black;}#sk-container-id-2 div.sk-estimator:hover label.sk-toggleable__label-arrow:before {color: black;}#sk-container-id-2 div.sk-toggleable__content {max-height: 0;max-width: 0;overflow: hidden;text-align: left;background-color: #f0f8ff;}#sk-container-id-2 div.sk-toggleable__content pre {margin: 0.2em;color: black;border-radius: 0.25em;background-color: #f0f8ff;}#sk-container-id-2 input.sk-toggleable__control:checked~div.sk-toggleable__content {max-height: 200px;max-width: 100%;overflow: auto;}#sk-container-id-2 input.sk-toggleable__control:checked~label.sk-toggleable__label-arrow:before {content: \"▾\";}#sk-container-id-2 div.sk-estimator input.sk-toggleable__control:checked~label.sk-toggleable__label {background-color: #d4ebff;}#sk-container-id-2 div.sk-label input.sk-toggleable__control:checked~label.sk-toggleable__label {background-color: #d4ebff;}#sk-container-id-2 input.sk-hidden--visually {border: 0;clip: rect(1px 1px 1px 1px);clip: rect(1px, 1px, 1px, 1px);height: 1px;margin: -1px;overflow: hidden;padding: 0;position: absolute;width: 1px;}#sk-container-id-2 div.sk-estimator {font-family: monospace;background-color: #f0f8ff;border: 1px dotted black;border-radius: 0.25em;box-sizing: border-box;margin-bottom: 0.5em;}#sk-container-id-2 div.sk-estimator:hover {background-color: #d4ebff;}#sk-container-id-2 div.sk-parallel-item::after {content: \"\";width: 100%;border-bottom: 1px solid gray;flex-grow: 1;}#sk-container-id-2 div.sk-label:hover label.sk-toggleable__label {background-color: #d4ebff;}#sk-container-id-2 div.sk-serial::before {content: \"\";position: absolute;border-left: 1px solid gray;box-sizing: border-box;top: 0;bottom: 0;left: 50%;z-index: 0;}#sk-container-id-2 div.sk-serial {display: flex;flex-direction: column;align-items: center;background-color: white;padding-right: 0.2em;padding-left: 0.2em;position: relative;}#sk-container-id-2 div.sk-item {position: relative;z-index: 1;}#sk-container-id-2 div.sk-parallel {display: flex;align-items: stretch;justify-content: center;background-color: white;position: relative;}#sk-container-id-2 div.sk-item::before, #sk-container-id-2 div.sk-parallel-item::before {content: \"\";position: absolute;border-left: 1px solid gray;box-sizing: border-box;top: 0;bottom: 0;left: 50%;z-index: -1;}#sk-container-id-2 div.sk-parallel-item {display: flex;flex-direction: column;z-index: 1;position: relative;background-color: white;}#sk-container-id-2 div.sk-parallel-item:first-child::after {align-self: flex-end;width: 50%;}#sk-container-id-2 div.sk-parallel-item:last-child::after {align-self: flex-start;width: 50%;}#sk-container-id-2 div.sk-parallel-item:only-child::after {width: 0;}#sk-container-id-2 div.sk-dashed-wrapped {border: 1px dashed gray;margin: 0 0.4em 0.5em 0.4em;box-sizing: border-box;padding-bottom: 0.4em;background-color: white;}#sk-container-id-2 div.sk-label label {font-family: monospace;font-weight: bold;display: inline-block;line-height: 1.2em;}#sk-container-id-2 div.sk-label-container {text-align: center;}#sk-container-id-2 div.sk-container {/* jupyter's `normalize.less` sets `[hidden] { display: none; }` but bootstrap.min.css set `[hidden] { display: none !important; }` so we also need the `!important` here to be able to override the default hidden behavior on the sphinx rendered scikit-learn.org. See: https://github.com/scikit-learn/scikit-learn/issues/21755 */display: inline-block !important;position: relative;}#sk-container-id-2 div.sk-text-repr-fallback {display: none;}</style><div id=\"sk-container-id-2\" class=\"sk-top-container\"><div class=\"sk-text-repr-fallback\"><pre>LinearRegression()</pre><b>In a Jupyter environment, please rerun this cell to show the HTML representation or trust the notebook. <br />On GitHub, the HTML representation is unable to render, please try loading this page with nbviewer.org.</b></div><div class=\"sk-container\" hidden><div class=\"sk-item\"><div class=\"sk-estimator sk-toggleable\"><input class=\"sk-toggleable__control sk-hidden--visually\" id=\"sk-estimator-id-2\" type=\"checkbox\" checked><label for=\"sk-estimator-id-2\" class=\"sk-toggleable__label sk-toggleable__label-arrow\">LinearRegression</label><div class=\"sk-toggleable__content\"><pre>LinearRegression()</pre></div></div></div></div></div>"
      ],
      "text/plain": [
       "LinearRegression()"
      ]
     },
     "execution_count": 396,
     "metadata": {},
     "output_type": "execute_result"
    }
   ],
   "source": [
    "modelo.fit(X_train,y_train)"
   ]
  },
  {
   "cell_type": "code",
   "execution_count": 397,
   "id": "acd5a3ab-ed69-4d68-b2d7-6c5a25d91336",
   "metadata": {
    "tags": []
   },
   "outputs": [
    {
     "name": "stdout",
     "output_type": "stream",
     "text": [
      "-830.0282775963796\n"
     ]
    },
    {
     "data": {
      "text/plain": [
       "array([ 4.13270098e-01,  4.37233976e-01, -5.30613944e-06,  3.45912849e-01,\n",
       "       -8.96352304e-01,  1.33415539e+00, -4.37803087e-01,  6.04639070e-01,\n",
       "       -6.04639070e-01,  9.35071633e-01, -9.35071633e-01])"
      ]
     },
     "execution_count": 397,
     "metadata": {},
     "output_type": "execute_result"
    }
   ],
   "source": [
    "# Obtenemos los coeficientes estimados\n",
    "print(modelo.intercept_)\n",
    "modelo.coef_"
   ]
  },
  {
   "cell_type": "markdown",
   "id": "5def41bd-82c7-457d-9859-b7fcf7eac618",
   "metadata": {},
   "source": [
    "#### Evaluación del Modelo"
   ]
  },
  {
   "cell_type": "code",
   "execution_count": 399,
   "id": "fd5d99d7-4a07-4ad4-aff1-dd312c6a3d47",
   "metadata": {
    "tags": []
   },
   "outputs": [
    {
     "data": {
      "text/plain": [
       "array([ 7.86273200e+00,  2.96828691e+00, -5.90305107e-01,  4.21335952e+00,\n",
       "        4.83175534e-01,  5.82053813e+00,  1.95679784e+00,  2.55809661e+00,\n",
       "        7.70870833e+00,  9.78692192e-01,  8.13484343e+00,  3.51207180e+00,\n",
       "        4.90669281e+00,  4.63905587e+00, -2.15886643e+00,  3.13874624e+00,\n",
       "        7.98256903e+00,  6.75937638e+00,  6.90426580e+00,  8.01440587e+00,\n",
       "        4.31168610e+00,  4.00336757e+00,  1.13040883e+01,  8.07939189e+00,\n",
       "        9.54399823e+00,  3.52133877e+00,  3.80609808e+00,  1.06074722e+00,\n",
       "       -6.01732475e-01, -6.19712043e-01,  1.32818516e-03, -1.28500691e+00,\n",
       "        4.28533553e+00,  2.06769487e+01,  1.87563232e+01,  4.27292100e+00,\n",
       "        3.48602852e+00,  1.66739677e+00, -4.38707072e-02,  5.78536030e+00,\n",
       "        8.03940428e+00,  9.88367483e+00,  4.09684249e-01,  6.07997517e+00,\n",
       "        5.88038915e+00,  4.32745252e+00,  7.37534505e+00,  5.86171335e+00,\n",
       "        8.21129880e+00,  1.65455816e+00,  3.83033706e+00,  1.75047060e+00,\n",
       "        2.51406796e+00,  4.20404709e+00,  1.48991546e+00, -3.44185843e+00,\n",
       "        2.04806215e+01,  6.62503544e-01,  5.40027412e+00,  5.65856241e+00,\n",
       "        6.47876234e-01])"
      ]
     },
     "execution_count": 399,
     "metadata": {},
     "output_type": "execute_result"
    }
   ],
   "source": [
    "trainig_datos_predict = modelo.predict(X_test)\n",
    "trainig_datos_predict"
   ]
  },
  {
   "cell_type": "code",
   "execution_count": 400,
   "id": "11ee54d3-64b5-470e-86f5-8251b8a5d739",
   "metadata": {
    "tags": []
   },
   "outputs": [
    {
     "data": {
      "text/plain": [
       "<matplotlib.collections.PathCollection at 0x176f555a3d0>"
      ]
     },
     "execution_count": 400,
     "metadata": {},
     "output_type": "execute_result"
    },
    {
     "data": {
      "image/png": "[encoded data removed]",
      "text/plain": [
       "<Figure size 640x480 with 1 Axes>"
      ]
     },
     "metadata": {},
     "output_type": "display_data"
    }
   ],
   "source": [
    "# Dibujamos las predicciones con los valores iniciales\n",
    "plt.scatter(y_test,trainig_datos_predict)"
   ]
  },
  {
   "cell_type": "code",
   "execution_count": 401,
   "id": "634b1976-1515-4296-9888-baf5746988fa",
   "metadata": {
    "tags": []
   },
   "outputs": [
    {
     "data": {
      "text/plain": [
       "0.8625260513316382"
      ]
     },
     "execution_count": 401,
     "metadata": {},
     "output_type": "execute_result"
    }
   ],
   "source": [
    "# Error cuadrado del modelo \n",
    "error_cuadrado = metrics.r2_score(y_test,trainig_datos_predict)\n",
    "error_cuadrado"
   ]
  },
  {
   "cell_type": "markdown",
   "id": "c37f34f3-10c0-46db-a4db-577732bd30d1",
   "metadata": {},
   "source": [
    "El error cuadrado del modelo es del 0,8625, por lo tanto, el modelo explica en un 86,25% la variable explicada."
   ]
  },
  {
   "cell_type": "markdown",
   "id": "a30fefe3-2538-4779-bdc9-bd874a6acd59",
   "metadata": {},
   "source": [
    "#### Sistema de predicción\n",
    "\n",
    "Vamos a generar un sistema de predicción según si añadimos una serie de datos y que nos de el precio estimado del coche"
   ]
  },
  {
   "cell_type": "code",
   "execution_count": 404,
   "id": "dd21a370-bad6-40f6-a166-9c2ba40b4d30",
   "metadata": {
    "tags": []
   },
   "outputs": [
    {
     "data": {
      "text/plain": [
       "array([2.014e+03, 5.590e+00, 2.700e+04, 0.000e+00, 0.000e+00, 0.000e+00,\n",
       "       1.000e+00, 1.000e+00, 0.000e+00, 0.000e+00, 1.000e+00])"
      ]
     },
     "execution_count": 404,
     "metadata": {},
     "output_type": "execute_result"
    }
   ],
   "source": [
    "input_datos = (2014,5.59,27000,0,0,0,1,1,0,0,1)\n",
    "# Cambiamos los datos de input a un numpy array \n",
    "input_datos_as_numpy_array = np.asarray(input_datos)\n",
    "input_datos_as_numpy_array"
   ]
  },
  {
   "cell_type": "code",
   "execution_count": 405,
   "id": "845b8d00-6ece-4935-952c-8b09beb28dca",
   "metadata": {
    "tags": []
   },
   "outputs": [
    {
     "data": {
      "text/plain": [
       "array([[2.014e+03, 5.590e+00, 2.700e+04, 0.000e+00, 0.000e+00, 0.000e+00,\n",
       "        1.000e+00, 1.000e+00, 0.000e+00, 0.000e+00, 1.000e+00]])"
      ]
     },
     "execution_count": 405,
     "metadata": {},
     "output_type": "execute_result"
    }
   ],
   "source": [
    "# Debemos modificar la np array pues estamos prediciendo por una instancia\n",
    "input_datos_modificados = input_datos_as_numpy_array.reshape(1,-1)\n",
    "input_datos_modificados"
   ]
  },
  {
   "cell_type": "code",
   "execution_count": 406,
   "id": "e5051c93-c13a-42d2-9d1c-d8647ce7a7bb",
   "metadata": {
    "tags": []
   },
   "outputs": [
    {
     "name": "stderr",
     "output_type": "stream",
     "text": [
      "C:\\Users\\pauri\\anaconda3\\Lib\\site-packages\\sklearn\\base.py:439: UserWarning: X does not have valid feature names, but LinearRegression was fitted with feature names\n",
      "  warnings.warn(\n"
     ]
    },
    {
     "data": {
      "text/plain": [
       "array([3.83033706])"
      ]
     },
     "execution_count": 406,
     "metadata": {},
     "output_type": "execute_result"
    }
   ],
   "source": [
    "predicción = modelo.predict(input_datos_modificados)\n",
    "predicción"
   ]
  },
  {
   "cell_type": "markdown",
   "id": "be6772c3-055a-4eb3-9526-a76f0d4d1140",
   "metadata": {},
   "source": [
    "Según nuestro modelo, y proporcionando los datos del primer coche del data frame, el Selling_Price tiene que ser de 3,83. "
   ]
  }
 ],
 "metadata": {
  "kernelspec": {
   "display_name": "Python 3 (ipykernel)",
   "language": "python",
   "name": "python3"
  },
  "language_info": {
   "codemirror_mode": {
    "name": "ipython",
    "version": 3
   },
   "file_extension": ".py",
   "mimetype": "text/x-python",
   "name": "python",
   "nbconvert_exporter": "python",
   "pygments_lexer": "ipython3",
   "version": "3.11.7"
  }
 },
 "nbformat": 4,
 "nbformat_minor": 5
}
